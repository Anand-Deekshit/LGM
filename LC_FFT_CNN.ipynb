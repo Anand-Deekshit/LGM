{
  "nbformat": 4,
  "nbformat_minor": 0,
  "metadata": {
    "colab": {
      "provenance": [],
      "authorship_tag": "ABX9TyNTeoaaZJ7FHmMGOlZyoLLO",
      "include_colab_link": true
    },
    "kernelspec": {
      "name": "python3",
      "display_name": "Python 3"
    },
    "language_info": {
      "name": "python"
    }
  },
  "cells": [
    {
      "cell_type": "markdown",
      "metadata": {
        "id": "view-in-github",
        "colab_type": "text"
      },
      "source": [
        "<a href=\"https://colab.research.google.com/github/nicholasproietti/LGM/blob/main/LC_FFT_CNN.ipynb\" target=\"_parent\"><img src=\"https://colab.research.google.com/assets/colab-badge.svg\" alt=\"Open In Colab\"/></a>"
      ]
    },
    {
      "cell_type": "markdown",
      "source": [
        "### Add the KIC_first_100.csv to the runtime"
      ],
      "metadata": {
        "id": "6eTZg-szYX_R"
      }
    },
    {
      "cell_type": "code",
      "source": [
        "!pip install lightkurve"
      ],
      "metadata": {
        "colab": {
          "base_uri": "https://localhost:8080/"
        },
        "id": "MlmYruSQZm_Z",
        "outputId": "a185b704-b583-48e5-b3a3-5672ce66376c"
      },
      "execution_count": 2,
      "outputs": [
        {
          "output_type": "stream",
          "name": "stdout",
          "text": [
            "Looking in indexes: https://pypi.org/simple, https://us-python.pkg.dev/colab-wheels/public/simple/\n",
            "Collecting lightkurve\n",
            "  Downloading lightkurve-2.0.11-py3-none-any.whl (247 kB)\n",
            "\u001b[K     |████████████████████████████████| 247 kB 4.2 MB/s \n",
            "\u001b[?25hRequirement already satisfied: scikit-learn>=0.24.0 in /usr/local/lib/python3.7/dist-packages (from lightkurve) (1.0.2)\n",
            "Requirement already satisfied: bokeh>=1.0 in /usr/local/lib/python3.7/dist-packages (from lightkurve) (2.3.3)\n",
            "Requirement already satisfied: beautifulsoup4>=4.6.0 in /usr/local/lib/python3.7/dist-packages (from lightkurve) (4.6.3)\n",
            "Requirement already satisfied: tqdm>=4.25.0 in /usr/local/lib/python3.7/dist-packages (from lightkurve) (4.64.1)\n",
            "Requirement already satisfied: matplotlib>=1.5.3 in /usr/local/lib/python3.7/dist-packages (from lightkurve) (3.2.2)\n",
            "Requirement already satisfied: patsy>=0.5.0 in /usr/local/lib/python3.7/dist-packages (from lightkurve) (0.5.3)\n",
            "Collecting oktopus>=0.1.2\n",
            "  Downloading oktopus-0.1.2.tar.gz (10 kB)\n",
            "Collecting fbpca>=1.0\n",
            "  Downloading fbpca-1.0.tar.gz (11 kB)\n",
            "Requirement already satisfied: pandas>=1.1.4 in /usr/local/lib/python3.7/dist-packages (from lightkurve) (1.3.5)\n",
            "Requirement already satisfied: requests>=2.22.0 in /usr/local/lib/python3.7/dist-packages (from lightkurve) (2.23.0)\n",
            "Collecting uncertainties>=3.1.4\n",
            "  Downloading uncertainties-3.1.7-py2.py3-none-any.whl (98 kB)\n",
            "\u001b[K     |████████████████████████████████| 98 kB 7.0 MB/s \n",
            "\u001b[?25hCollecting astroquery>=0.3.10\n",
            "  Downloading astroquery-0.4.6-py3-none-any.whl (4.5 MB)\n",
            "\u001b[K     |████████████████████████████████| 4.5 MB 57.2 MB/s \n",
            "\u001b[?25hRequirement already satisfied: scipy>=0.19.0 in /usr/local/lib/python3.7/dist-packages (from lightkurve) (1.7.3)\n",
            "Collecting memoization>=0.3.1\n",
            "  Downloading memoization-0.4.0.tar.gz (41 kB)\n",
            "\u001b[K     |████████████████████████████████| 41 kB 200 kB/s \n",
            "\u001b[?25hRequirement already satisfied: astropy>=4.1 in /usr/local/lib/python3.7/dist-packages (from lightkurve) (4.3.1)\n",
            "Requirement already satisfied: numpy>=1.11 in /usr/local/lib/python3.7/dist-packages (from lightkurve) (1.21.6)\n",
            "Requirement already satisfied: importlib-metadata in /usr/local/lib/python3.7/dist-packages (from astropy>=4.1->lightkurve) (4.13.0)\n",
            "Requirement already satisfied: pyerfa>=1.7.3 in /usr/local/lib/python3.7/dist-packages (from astropy>=4.1->lightkurve) (2.0.0.1)\n",
            "Collecting pyvo>=1.1\n",
            "  Downloading pyvo-1.2.1-py3-none-any.whl (832 kB)\n",
            "\u001b[K     |████████████████████████████████| 832 kB 42.2 MB/s \n",
            "\u001b[?25hCollecting keyring>=4.0\n",
            "  Downloading keyring-23.11.0-py3-none-any.whl (36 kB)\n",
            "Requirement already satisfied: html5lib>=0.999 in /usr/local/lib/python3.7/dist-packages (from astroquery>=0.3.10->lightkurve) (1.0.1)\n",
            "Requirement already satisfied: packaging>=16.8 in /usr/local/lib/python3.7/dist-packages (from bokeh>=1.0->lightkurve) (21.3)\n",
            "Requirement already satisfied: tornado>=5.1 in /usr/local/lib/python3.7/dist-packages (from bokeh>=1.0->lightkurve) (6.0.4)\n",
            "Requirement already satisfied: pillow>=7.1.0 in /usr/local/lib/python3.7/dist-packages (from bokeh>=1.0->lightkurve) (7.1.2)\n",
            "Requirement already satisfied: python-dateutil>=2.1 in /usr/local/lib/python3.7/dist-packages (from bokeh>=1.0->lightkurve) (2.8.2)\n",
            "Requirement already satisfied: typing-extensions>=3.7.4 in /usr/local/lib/python3.7/dist-packages (from bokeh>=1.0->lightkurve) (4.1.1)\n",
            "Requirement already satisfied: Jinja2>=2.9 in /usr/local/lib/python3.7/dist-packages (from bokeh>=1.0->lightkurve) (2.11.3)\n",
            "Requirement already satisfied: PyYAML>=3.10 in /usr/local/lib/python3.7/dist-packages (from bokeh>=1.0->lightkurve) (6.0)\n",
            "Requirement already satisfied: six>=1.9 in /usr/local/lib/python3.7/dist-packages (from html5lib>=0.999->astroquery>=0.3.10->lightkurve) (1.15.0)\n",
            "Requirement already satisfied: webencodings in /usr/local/lib/python3.7/dist-packages (from html5lib>=0.999->astroquery>=0.3.10->lightkurve) (0.5.1)\n",
            "Requirement already satisfied: MarkupSafe>=0.23 in /usr/local/lib/python3.7/dist-packages (from Jinja2>=2.9->bokeh>=1.0->lightkurve) (2.0.1)\n",
            "Collecting SecretStorage>=3.2\n",
            "  Downloading SecretStorage-3.3.3-py3-none-any.whl (15 kB)\n",
            "Collecting jeepney>=0.4.2\n",
            "  Downloading jeepney-0.8.0-py3-none-any.whl (48 kB)\n",
            "\u001b[K     |████████████████████████████████| 48 kB 5.5 MB/s \n",
            "\u001b[?25hCollecting jaraco.classes\n",
            "  Downloading jaraco.classes-3.2.3-py3-none-any.whl (6.0 kB)\n",
            "Requirement already satisfied: zipp>=0.5 in /usr/local/lib/python3.7/dist-packages (from importlib-metadata->astropy>=4.1->lightkurve) (3.10.0)\n",
            "Requirement already satisfied: kiwisolver>=1.0.1 in /usr/local/lib/python3.7/dist-packages (from matplotlib>=1.5.3->lightkurve) (1.4.4)\n",
            "Requirement already satisfied: cycler>=0.10 in /usr/local/lib/python3.7/dist-packages (from matplotlib>=1.5.3->lightkurve) (0.11.0)\n",
            "Requirement already satisfied: pyparsing!=2.0.4,!=2.1.2,!=2.1.6,>=2.0.1 in /usr/local/lib/python3.7/dist-packages (from matplotlib>=1.5.3->lightkurve) (3.0.9)\n",
            "Requirement already satisfied: autograd in /usr/local/lib/python3.7/dist-packages (from oktopus>=0.1.2->lightkurve) (1.5)\n",
            "Requirement already satisfied: pytz>=2017.3 in /usr/local/lib/python3.7/dist-packages (from pandas>=1.1.4->lightkurve) (2022.6)\n",
            "Requirement already satisfied: idna<3,>=2.5 in /usr/local/lib/python3.7/dist-packages (from requests>=2.22.0->lightkurve) (2.10)\n",
            "Requirement already satisfied: chardet<4,>=3.0.2 in /usr/local/lib/python3.7/dist-packages (from requests>=2.22.0->lightkurve) (3.0.4)\n",
            "Requirement already satisfied: certifi>=2017.4.17 in /usr/local/lib/python3.7/dist-packages (from requests>=2.22.0->lightkurve) (2022.9.24)\n",
            "Requirement already satisfied: urllib3!=1.25.0,!=1.25.1,<1.26,>=1.21.1 in /usr/local/lib/python3.7/dist-packages (from requests>=2.22.0->lightkurve) (1.24.3)\n",
            "Requirement already satisfied: threadpoolctl>=2.0.0 in /usr/local/lib/python3.7/dist-packages (from scikit-learn>=0.24.0->lightkurve) (3.1.0)\n",
            "Requirement already satisfied: joblib>=0.11 in /usr/local/lib/python3.7/dist-packages (from scikit-learn>=0.24.0->lightkurve) (1.2.0)\n",
            "Collecting cryptography>=2.0\n",
            "  Downloading cryptography-38.0.3-cp36-abi3-manylinux_2_24_x86_64.whl (4.1 MB)\n",
            "\u001b[K     |████████████████████████████████| 4.1 MB 45.2 MB/s \n",
            "\u001b[?25hRequirement already satisfied: cffi>=1.12 in /usr/local/lib/python3.7/dist-packages (from cryptography>=2.0->SecretStorage>=3.2->keyring>=4.0->astroquery>=0.3.10->lightkurve) (1.15.1)\n",
            "Requirement already satisfied: pycparser in /usr/local/lib/python3.7/dist-packages (from cffi>=1.12->cryptography>=2.0->SecretStorage>=3.2->keyring>=4.0->astroquery>=0.3.10->lightkurve) (2.21)\n",
            "Requirement already satisfied: future in /usr/local/lib/python3.7/dist-packages (from uncertainties>=3.1.4->lightkurve) (0.16.0)\n",
            "Requirement already satisfied: more-itertools in /usr/local/lib/python3.7/dist-packages (from jaraco.classes->keyring>=4.0->astroquery>=0.3.10->lightkurve) (9.0.0)\n",
            "Building wheels for collected packages: fbpca, memoization, oktopus\n",
            "  Building wheel for fbpca (setup.py) ... \u001b[?25l\u001b[?25hdone\n",
            "  Created wheel for fbpca: filename=fbpca-1.0-py3-none-any.whl size=11377 sha256=347ff239974927f76c1421ff598d08f3469a9e810e3567bc7447cb3ac830fdb7\n",
            "  Stored in directory: /root/.cache/pip/wheels/93/08/0c/1b9866c35c8d3f136d100dfe88036a32e0795437daca089f70\n",
            "  Building wheel for memoization (setup.py) ... \u001b[?25l\u001b[?25hdone\n",
            "  Created wheel for memoization: filename=memoization-0.4.0-py3-none-any.whl size=50469 sha256=19c83ee6936fc3312a6266d1648da9d5a2e9e297d902772370a0e407cef0a895\n",
            "  Stored in directory: /root/.cache/pip/wheels/38/f7/65/161985e7311dd484a23b3a5c9149995dbf11db6cede602e7ef\n",
            "  Building wheel for oktopus (setup.py) ... \u001b[?25l\u001b[?25hdone\n",
            "  Created wheel for oktopus: filename=oktopus-0.1.2-py3-none-any.whl size=12778 sha256=66b5291aee21dddf8721901f51577bbad90c651e9fedbc3d43cc4379d105d313\n",
            "  Stored in directory: /root/.cache/pip/wheels/19/22/e3/6d224a32d6f94f28113d6d26c8bef81d7e05978d0efed29517\n",
            "Successfully built fbpca memoization oktopus\n",
            "Installing collected packages: jeepney, cryptography, SecretStorage, jaraco.classes, pyvo, keyring, uncertainties, oktopus, memoization, fbpca, astroquery, lightkurve\n",
            "Successfully installed SecretStorage-3.3.3 astroquery-0.4.6 cryptography-38.0.3 fbpca-1.0 jaraco.classes-3.2.3 jeepney-0.8.0 keyring-23.11.0 lightkurve-2.0.11 memoization-0.4.0 oktopus-0.1.2 pyvo-1.2.1 uncertainties-3.1.7\n"
          ]
        }
      ]
    },
    {
      "cell_type": "code",
      "execution_count": 3,
      "metadata": {
        "id": "4UsU6-ssZdc8"
      },
      "outputs": [],
      "source": [
        "import numpy as np\n",
        "import pandas as pd\n",
        "import matplotlib.pyplot as plt\n",
        "import lightkurve as lk\n",
        "import scipy\n",
        "from scipy.fft import fft, fftfreq\n",
        "from scipy import signal\n",
        "from keras.models import Sequential\n",
        "from keras.layers import Dense, Conv1D, Flatten\n",
        "from sklearn.model_selection import train_test_split\n",
        "from sklearn.metrics import mean_squared_error"
      ]
    },
    {
      "cell_type": "code",
      "source": [
        "KOI_first_100 = pd.read_csv('KIC_first_100.csv')\n",
        "KOI_first_100.drop(KOI_first_100.columns[0], axis=1, inplace=True)\n",
        "KOI_first_100.head()"
      ],
      "metadata": {
        "colab": {
          "base_uri": "https://localhost:8080/",
          "height": 300
        },
        "id": "61dyAp03Zs2S",
        "outputId": "38a33959-e795-4d11-daca-8e13013db176"
      },
      "execution_count": 5,
      "outputs": [
        {
          "output_type": "execute_result",
          "data": {
            "text/plain": [
              "   rowid     kepid kepoi_name   kepler_name koi_disposition koi_vet_stat  \\\n",
              "0      1  10797460  K00752.01  Kepler-227 b       CONFIRMED         Done   \n",
              "1      2  10797460  K00752.02  Kepler-227 c       CONFIRMED         Done   \n",
              "2      3  10811496  K00753.01           NaN       CANDIDATE         Done   \n",
              "3      5  10854555  K00755.01  Kepler-664 b       CONFIRMED         Done   \n",
              "4      6  10872983  K00756.01  Kepler-228 d       CONFIRMED         Done   \n",
              "\n",
              "  koi_vet_date koi_pdisposition  koi_score  koi_fpflag_nt  ...  koi_fwm_srao  \\\n",
              "0   2018-08-16        CANDIDATE      1.000              0  ...         0.430   \n",
              "1   2018-08-16        CANDIDATE      0.969              0  ...        -0.630   \n",
              "2   2018-08-16        CANDIDATE      0.000              0  ...        -0.021   \n",
              "3   2018-08-16        CANDIDATE      1.000              0  ...        -0.010   \n",
              "4   2018-08-16        CANDIDATE      1.000              0  ...        -0.120   \n",
              "\n",
              "   koi_fwm_sdeco  koi_fwm_prao koi_fwm_pdeco koi_dicco_mra  koi_dicco_mdec  \\\n",
              "0          0.940      -0.00020      -0.00055        -0.010           0.200   \n",
              "1          1.230       0.00066      -0.00105         0.390           0.000   \n",
              "2         -0.038       0.00070       0.00060        -0.025          -0.034   \n",
              "3          0.230       0.00008      -0.00007         0.030          -0.090   \n",
              "4          0.140       0.00004           NaN         0.040          -0.070   \n",
              "\n",
              "   koi_dicco_msky  koi_dikco_mra  koi_dikco_mdec  koi_dikco_msky  \n",
              "0           0.200          0.080           0.310           0.320  \n",
              "1           0.390          0.490           0.120           0.500  \n",
              "2           0.042          0.002          -0.027           0.027  \n",
              "3           0.100          0.070           0.020           0.070  \n",
              "4           0.080         -0.020          -0.080           0.080  \n",
              "\n",
              "[5 rows x 83 columns]"
            ],
            "text/html": [
              "\n",
              "  <div id=\"df-dd941679-60c8-48e9-aec3-6c721552da3b\">\n",
              "    <div class=\"colab-df-container\">\n",
              "      <div>\n",
              "<style scoped>\n",
              "    .dataframe tbody tr th:only-of-type {\n",
              "        vertical-align: middle;\n",
              "    }\n",
              "\n",
              "    .dataframe tbody tr th {\n",
              "        vertical-align: top;\n",
              "    }\n",
              "\n",
              "    .dataframe thead th {\n",
              "        text-align: right;\n",
              "    }\n",
              "</style>\n",
              "<table border=\"1\" class=\"dataframe\">\n",
              "  <thead>\n",
              "    <tr style=\"text-align: right;\">\n",
              "      <th></th>\n",
              "      <th>rowid</th>\n",
              "      <th>kepid</th>\n",
              "      <th>kepoi_name</th>\n",
              "      <th>kepler_name</th>\n",
              "      <th>koi_disposition</th>\n",
              "      <th>koi_vet_stat</th>\n",
              "      <th>koi_vet_date</th>\n",
              "      <th>koi_pdisposition</th>\n",
              "      <th>koi_score</th>\n",
              "      <th>koi_fpflag_nt</th>\n",
              "      <th>...</th>\n",
              "      <th>koi_fwm_srao</th>\n",
              "      <th>koi_fwm_sdeco</th>\n",
              "      <th>koi_fwm_prao</th>\n",
              "      <th>koi_fwm_pdeco</th>\n",
              "      <th>koi_dicco_mra</th>\n",
              "      <th>koi_dicco_mdec</th>\n",
              "      <th>koi_dicco_msky</th>\n",
              "      <th>koi_dikco_mra</th>\n",
              "      <th>koi_dikco_mdec</th>\n",
              "      <th>koi_dikco_msky</th>\n",
              "    </tr>\n",
              "  </thead>\n",
              "  <tbody>\n",
              "    <tr>\n",
              "      <th>0</th>\n",
              "      <td>1</td>\n",
              "      <td>10797460</td>\n",
              "      <td>K00752.01</td>\n",
              "      <td>Kepler-227 b</td>\n",
              "      <td>CONFIRMED</td>\n",
              "      <td>Done</td>\n",
              "      <td>2018-08-16</td>\n",
              "      <td>CANDIDATE</td>\n",
              "      <td>1.000</td>\n",
              "      <td>0</td>\n",
              "      <td>...</td>\n",
              "      <td>0.430</td>\n",
              "      <td>0.940</td>\n",
              "      <td>-0.00020</td>\n",
              "      <td>-0.00055</td>\n",
              "      <td>-0.010</td>\n",
              "      <td>0.200</td>\n",
              "      <td>0.200</td>\n",
              "      <td>0.080</td>\n",
              "      <td>0.310</td>\n",
              "      <td>0.320</td>\n",
              "    </tr>\n",
              "    <tr>\n",
              "      <th>1</th>\n",
              "      <td>2</td>\n",
              "      <td>10797460</td>\n",
              "      <td>K00752.02</td>\n",
              "      <td>Kepler-227 c</td>\n",
              "      <td>CONFIRMED</td>\n",
              "      <td>Done</td>\n",
              "      <td>2018-08-16</td>\n",
              "      <td>CANDIDATE</td>\n",
              "      <td>0.969</td>\n",
              "      <td>0</td>\n",
              "      <td>...</td>\n",
              "      <td>-0.630</td>\n",
              "      <td>1.230</td>\n",
              "      <td>0.00066</td>\n",
              "      <td>-0.00105</td>\n",
              "      <td>0.390</td>\n",
              "      <td>0.000</td>\n",
              "      <td>0.390</td>\n",
              "      <td>0.490</td>\n",
              "      <td>0.120</td>\n",
              "      <td>0.500</td>\n",
              "    </tr>\n",
              "    <tr>\n",
              "      <th>2</th>\n",
              "      <td>3</td>\n",
              "      <td>10811496</td>\n",
              "      <td>K00753.01</td>\n",
              "      <td>NaN</td>\n",
              "      <td>CANDIDATE</td>\n",
              "      <td>Done</td>\n",
              "      <td>2018-08-16</td>\n",
              "      <td>CANDIDATE</td>\n",
              "      <td>0.000</td>\n",
              "      <td>0</td>\n",
              "      <td>...</td>\n",
              "      <td>-0.021</td>\n",
              "      <td>-0.038</td>\n",
              "      <td>0.00070</td>\n",
              "      <td>0.00060</td>\n",
              "      <td>-0.025</td>\n",
              "      <td>-0.034</td>\n",
              "      <td>0.042</td>\n",
              "      <td>0.002</td>\n",
              "      <td>-0.027</td>\n",
              "      <td>0.027</td>\n",
              "    </tr>\n",
              "    <tr>\n",
              "      <th>3</th>\n",
              "      <td>5</td>\n",
              "      <td>10854555</td>\n",
              "      <td>K00755.01</td>\n",
              "      <td>Kepler-664 b</td>\n",
              "      <td>CONFIRMED</td>\n",
              "      <td>Done</td>\n",
              "      <td>2018-08-16</td>\n",
              "      <td>CANDIDATE</td>\n",
              "      <td>1.000</td>\n",
              "      <td>0</td>\n",
              "      <td>...</td>\n",
              "      <td>-0.010</td>\n",
              "      <td>0.230</td>\n",
              "      <td>0.00008</td>\n",
              "      <td>-0.00007</td>\n",
              "      <td>0.030</td>\n",
              "      <td>-0.090</td>\n",
              "      <td>0.100</td>\n",
              "      <td>0.070</td>\n",
              "      <td>0.020</td>\n",
              "      <td>0.070</td>\n",
              "    </tr>\n",
              "    <tr>\n",
              "      <th>4</th>\n",
              "      <td>6</td>\n",
              "      <td>10872983</td>\n",
              "      <td>K00756.01</td>\n",
              "      <td>Kepler-228 d</td>\n",
              "      <td>CONFIRMED</td>\n",
              "      <td>Done</td>\n",
              "      <td>2018-08-16</td>\n",
              "      <td>CANDIDATE</td>\n",
              "      <td>1.000</td>\n",
              "      <td>0</td>\n",
              "      <td>...</td>\n",
              "      <td>-0.120</td>\n",
              "      <td>0.140</td>\n",
              "      <td>0.00004</td>\n",
              "      <td>NaN</td>\n",
              "      <td>0.040</td>\n",
              "      <td>-0.070</td>\n",
              "      <td>0.080</td>\n",
              "      <td>-0.020</td>\n",
              "      <td>-0.080</td>\n",
              "      <td>0.080</td>\n",
              "    </tr>\n",
              "  </tbody>\n",
              "</table>\n",
              "<p>5 rows × 83 columns</p>\n",
              "</div>\n",
              "      <button class=\"colab-df-convert\" onclick=\"convertToInteractive('df-dd941679-60c8-48e9-aec3-6c721552da3b')\"\n",
              "              title=\"Convert this dataframe to an interactive table.\"\n",
              "              style=\"display:none;\">\n",
              "        \n",
              "  <svg xmlns=\"http://www.w3.org/2000/svg\" height=\"24px\"viewBox=\"0 0 24 24\"\n",
              "       width=\"24px\">\n",
              "    <path d=\"M0 0h24v24H0V0z\" fill=\"none\"/>\n",
              "    <path d=\"M18.56 5.44l.94 2.06.94-2.06 2.06-.94-2.06-.94-.94-2.06-.94 2.06-2.06.94zm-11 1L8.5 8.5l.94-2.06 2.06-.94-2.06-.94L8.5 2.5l-.94 2.06-2.06.94zm10 10l.94 2.06.94-2.06 2.06-.94-2.06-.94-.94-2.06-.94 2.06-2.06.94z\"/><path d=\"M17.41 7.96l-1.37-1.37c-.4-.4-.92-.59-1.43-.59-.52 0-1.04.2-1.43.59L10.3 9.45l-7.72 7.72c-.78.78-.78 2.05 0 2.83L4 21.41c.39.39.9.59 1.41.59.51 0 1.02-.2 1.41-.59l7.78-7.78 2.81-2.81c.8-.78.8-2.07 0-2.86zM5.41 20L4 18.59l7.72-7.72 1.47 1.35L5.41 20z\"/>\n",
              "  </svg>\n",
              "      </button>\n",
              "      \n",
              "  <style>\n",
              "    .colab-df-container {\n",
              "      display:flex;\n",
              "      flex-wrap:wrap;\n",
              "      gap: 12px;\n",
              "    }\n",
              "\n",
              "    .colab-df-convert {\n",
              "      background-color: #E8F0FE;\n",
              "      border: none;\n",
              "      border-radius: 50%;\n",
              "      cursor: pointer;\n",
              "      display: none;\n",
              "      fill: #1967D2;\n",
              "      height: 32px;\n",
              "      padding: 0 0 0 0;\n",
              "      width: 32px;\n",
              "    }\n",
              "\n",
              "    .colab-df-convert:hover {\n",
              "      background-color: #E2EBFA;\n",
              "      box-shadow: 0px 1px 2px rgba(60, 64, 67, 0.3), 0px 1px 3px 1px rgba(60, 64, 67, 0.15);\n",
              "      fill: #174EA6;\n",
              "    }\n",
              "\n",
              "    [theme=dark] .colab-df-convert {\n",
              "      background-color: #3B4455;\n",
              "      fill: #D2E3FC;\n",
              "    }\n",
              "\n",
              "    [theme=dark] .colab-df-convert:hover {\n",
              "      background-color: #434B5C;\n",
              "      box-shadow: 0px 1px 3px 1px rgba(0, 0, 0, 0.15);\n",
              "      filter: drop-shadow(0px 1px 2px rgba(0, 0, 0, 0.3));\n",
              "      fill: #FFFFFF;\n",
              "    }\n",
              "  </style>\n",
              "\n",
              "      <script>\n",
              "        const buttonEl =\n",
              "          document.querySelector('#df-dd941679-60c8-48e9-aec3-6c721552da3b button.colab-df-convert');\n",
              "        buttonEl.style.display =\n",
              "          google.colab.kernel.accessAllowed ? 'block' : 'none';\n",
              "\n",
              "        async function convertToInteractive(key) {\n",
              "          const element = document.querySelector('#df-dd941679-60c8-48e9-aec3-6c721552da3b');\n",
              "          const dataTable =\n",
              "            await google.colab.kernel.invokeFunction('convertToInteractive',\n",
              "                                                     [key], {});\n",
              "          if (!dataTable) return;\n",
              "\n",
              "          const docLinkHtml = 'Like what you see? Visit the ' +\n",
              "            '<a target=\"_blank\" href=https://colab.research.google.com/notebooks/data_table.ipynb>data table notebook</a>'\n",
              "            + ' to learn more about interactive tables.';\n",
              "          element.innerHTML = '';\n",
              "          dataTable['output_type'] = 'display_data';\n",
              "          await google.colab.output.renderOutput(dataTable, element);\n",
              "          const docLink = document.createElement('div');\n",
              "          docLink.innerHTML = docLinkHtml;\n",
              "          element.appendChild(docLink);\n",
              "        }\n",
              "      </script>\n",
              "    </div>\n",
              "  </div>\n",
              "  "
            ]
          },
          "metadata": {},
          "execution_count": 5
        }
      ]
    },
    {
      "cell_type": "markdown",
      "source": [
        "#FFT"
      ],
      "metadata": {
        "id": "ouuTNeW6qguT"
      }
    },
    {
      "cell_type": "code",
      "source": [
        "flux = []\n",
        "time = []\n",
        "for index, row in KOI_first_100.iterrows():\n",
        "  search_result_q2 = lk.search_lightcurve('KIC ' + str(row['kepid']), author='Kepler', quarter=2)\n",
        "  lc = search_result_q2.download()\n",
        "  lc_flatten = lc.flatten()\n",
        "  flux_small = lc_flatten['flux'].value\n",
        "  time_small = lc_flatten['time'].value\n",
        "  fluxi = np.arange(len(flux_small))\n",
        "  mask = np.isfinite(flux_small)\n",
        "  flux_filtered = np.interp(fluxi, fluxi[mask], flux_small[mask])\n",
        "  sci_flux = abs(fft(flux_filtered))\n",
        "  #sci_freq = scipy.fftpack.fftfreq(flux_small.size, time_small[1]-time_small[0])\n",
        "  sci_freq = 0\n",
        "\n",
        "  # getting the top 3 dominant frequencies\n",
        "  f, Pxx = signal.periodogram(flux_filtered)\n",
        "  top_3periods = {}\n",
        "\n",
        "  top_freq_indices = np.flip(np.argsort(Pxx), 0)[0:3]\n",
        "\n",
        "  freqs = f[top_freq_indices]\n",
        "\n",
        "  powers = Pxx[top_freq_indices]\n",
        "\n",
        "  periods = 1 / np.array(freqs)\n",
        "\n",
        "  top_3periods['period1'] = periods[0]\n",
        "  top_3periods['freq1'] = freqs[0]\n",
        "  top_3periods['power1'] = powers[0]\n",
        "\n",
        "  top_3periods['period2'] = periods[1]\n",
        "  top_3periods['freq2'] = freqs[1]\n",
        "  top_3periods['power2'] = powers[1]\n",
        "\n",
        "  top_3periods['period3'] = periods[2]\n",
        "  top_3periods['freq3'] = freqs[2]\n",
        "  top_3periods['power3'] = powers[2]\n",
        "\n",
        "  # removing the sine waves of the dominant frequencies\n",
        "  # use .max() for np array\n",
        "  Fs = time_small.size\n",
        "  sig1 = max(flux_small)*np.sin(2*np.pi*top_3periods['freq1']*time_small)\n",
        "  sig1_cos = max(flux_small)*np.cos(2*np.pi*top_3periods['freq1']*time_small)\n",
        "  sig2 = max(flux_small)*np.sin(2*np.pi*top_3periods['freq2']*time_small)\n",
        "  sig2_cos = max(flux_small)*np.cos(2*np.pi*top_3periods['freq2']*time_small)\n",
        "  sig3 = max(flux_small)*np.sin(2*np.pi*top_3periods['freq3']*time_small)\n",
        "  sig3_cos = max(flux_small)*np.cos(2*np.pi*top_3periods['freq3']*time_small)\n",
        "\n",
        "  flat_flux = np.abs(flux_filtered - sig1 - sig2 - sig3 - sig1_cos - sig2_cos - sig3_cos)\n",
        "\n",
        "  flux.append(np.array(flat_flux))\n",
        "  time.append(np.array(time_small))"
      ],
      "metadata": {
        "colab": {
          "base_uri": "https://localhost:8080/"
        },
        "id": "sS5v4py0qgZC",
        "outputId": "9d00270e-9bcd-470a-cd2a-27b8c73f563c"
      },
      "execution_count": 6,
      "outputs": [
        {
          "output_type": "stream",
          "name": "stderr",
          "text": [
            "/usr/local/lib/python3.7/dist-packages/lightkurve/search.py:352: LightkurveWarning: Warning: 4 files available to download. Only the first file has been downloaded. Please use `download_all()` or specify additional criteria (e.g. quarter, campaign, or sector) to limit your search.\n",
            "  LightkurveWarning,\n",
            "/usr/local/lib/python3.7/dist-packages/lightkurve/search.py:352: LightkurveWarning: Warning: 4 files available to download. Only the first file has been downloaded. Please use `download_all()` or specify additional criteria (e.g. quarter, campaign, or sector) to limit your search.\n",
            "  LightkurveWarning,\n",
            "/usr/local/lib/python3.7/dist-packages/lightkurve/search.py:352: LightkurveWarning: Warning: 4 files available to download. Only the first file has been downloaded. Please use `download_all()` or specify additional criteria (e.g. quarter, campaign, or sector) to limit your search.\n",
            "  LightkurveWarning,\n"
          ]
        }
      ]
    },
    {
      "cell_type": "code",
      "source": [
        "flux = []\n",
        "time = []\n",
        "for index, row in KOI_first_100.iterrows():\n",
        "  try:\n",
        "    search_result_q2 = lk.search_lightcurve('KIC ' + str(row['kepid']), author='Kepler', quarter=2)\n",
        "    lc = search_result_q2.download()\n",
        "  except:\n",
        "    pass\n",
        "  lc_flatten = lc.flatten()\n",
        "  flux_small = lc_flatten['flux'].value\n",
        "  time_small = lc_flatten['time'].value\n",
        "  fluxi = np.arange(len(flux_small))\n",
        "  mask = np.isfinite(flux_small)\n",
        "  flux_filtered = np.interp(fluxi, fluxi[mask], flux_small[mask])\n",
        "  y = abs(flux_filtered)\n",
        "  y[1] = 0\n",
        "  fft_flux = np.real(y)\n",
        "  flux.append(np.array(fft_flux))"
      ],
      "metadata": {
        "id": "G710BfNkeWPz",
        "outputId": "cd816c8d-3afa-43d1-ec63-206b51a4a6f0",
        "colab": {
          "base_uri": "https://localhost:8080/"
        }
      },
      "execution_count": 7,
      "outputs": [
        {
          "output_type": "stream",
          "name": "stderr",
          "text": [
            "/usr/local/lib/python3.7/dist-packages/lightkurve/search.py:352: LightkurveWarning: Warning: 4 files available to download. Only the first file has been downloaded. Please use `download_all()` or specify additional criteria (e.g. quarter, campaign, or sector) to limit your search.\n",
            "  LightkurveWarning,\n",
            "/usr/local/lib/python3.7/dist-packages/lightkurve/search.py:352: LightkurveWarning: Warning: 4 files available to download. Only the first file has been downloaded. Please use `download_all()` or specify additional criteria (e.g. quarter, campaign, or sector) to limit your search.\n",
            "  LightkurveWarning,\n",
            "/usr/local/lib/python3.7/dist-packages/lightkurve/search.py:352: LightkurveWarning: Warning: 4 files available to download. Only the first file has been downloaded. Please use `download_all()` or specify additional criteria (e.g. quarter, campaign, or sector) to limit your search.\n",
            "  LightkurveWarning,\n"
          ]
        }
      ]
    },
    {
      "cell_type": "code",
      "source": [
        "from scipy.fft import fft, ifft\n",
        "y = abs(fft(flux_filtered))\n",
        "# find max freq and put it to 0\n",
        "y[1] = 0\n",
        "inv = np.real(ifft(y))\n",
        "print(flux_filtered)\n",
        "#assert ((flux_filtered - inv) < 1e-3).all()"
      ],
      "metadata": {
        "id": "HiKlImGN62Ph",
        "outputId": "3c4cfb12-97c6-4c7d-a897-48fc88dcb576",
        "colab": {
          "base_uri": "https://localhost:8080/"
        }
      },
      "execution_count": 17,
      "outputs": [
        {
          "output_type": "stream",
          "name": "stdout",
          "text": [
            "[1.00118871 1.00123964 1.00072033 ... 1.00013975 0.99958144 0.99999832]\n"
          ]
        }
      ]
    },
    {
      "cell_type": "code",
      "source": [
        "# try multilayer perceptron with abs(y) and y\n",
        "plt.plot(np.real(y))\n",
        "plt.plot(np.imag(y))\n",
        "plt.xlim((0,100))"
      ],
      "metadata": {
        "id": "4AvaaoSV8iUz",
        "outputId": "a0020034-056f-45b5-9064-9f21288cd92e",
        "colab": {
          "base_uri": "https://localhost:8080/",
          "height": 283
        }
      },
      "execution_count": 18,
      "outputs": [
        {
          "output_type": "execute_result",
          "data": {
            "text/plain": [
              "(0.0, 100.0)"
            ]
          },
          "metadata": {},
          "execution_count": 18
        },
        {
          "output_type": "display_data",
          "data": {
            "text/plain": [
              "<Figure size 432x288 with 1 Axes>"
            ],
            "image/png": "[encoded data removed]"
          },
          "metadata": {
            "needs_background": "light"
          }
        }
      ]
    },
    {
      "cell_type": "code",
      "source": [
        "plt.plot(flux_filtered, c='r')\n",
        "plt.plot(inv, c='b')\n",
        "plt.ylabel('Flux (Normalized)')\n",
        "plt.xlabel('Time (JDays)')"
      ],
      "metadata": {
        "id": "K8pf-gL8741u",
        "outputId": "875a4a0d-ffcc-4f01-9b2a-74f31cda9181",
        "colab": {
          "base_uri": "https://localhost:8080/",
          "height": 297
        }
      },
      "execution_count": 19,
      "outputs": [
        {
          "output_type": "execute_result",
          "data": {
            "text/plain": [
              "Text(0.5, 0, 'Time (JDays)')"
            ]
          },
          "metadata": {},
          "execution_count": 19
        },
        {
          "output_type": "display_data",
          "data": {
            "text/plain": [
              "<Figure size 432x288 with 1 Axes>"
            ],
            "image/png": "[encoded data removed]"
          },
          "metadata": {
            "needs_background": "light"
          }
        }
      ]
    },
    {
      "cell_type": "code",
      "source": [
        "plt.plot(flux_filtered - inv)"
      ],
      "metadata": {
        "id": "wpk3DMgo8Sld",
        "outputId": "e7f59fa3-d51e-4eb5-cbd6-9c86c6c6068c",
        "colab": {
          "base_uri": "https://localhost:8080/",
          "height": 283
        }
      },
      "execution_count": 23,
      "outputs": [
        {
          "output_type": "execute_result",
          "data": {
            "text/plain": [
              "[<matplotlib.lines.Line2D at 0x7f1c3d6f8fd0>]"
            ]
          },
          "metadata": {},
          "execution_count": 23
        },
        {
          "output_type": "display_data",
          "data": {
            "text/plain": [
              "<Figure size 432x288 with 1 Axes>"
            ],
            "image/png": "[encoded data removed]"
          },
          "metadata": {
            "needs_background": "light"
          }
        }
      ]
    },
    {
      "cell_type": "code",
      "source": [
        "sci_flux = fft(flux_filtered)\n",
        "sci_freq = scipy.fftpack.fftfreq(flux_small.size, time_small[1]-time_small[0])\n",
        "print(sci_freq)"
      ],
      "metadata": {
        "id": "2wh3bN3n50ah",
        "outputId": "a3a2faa8-6b9c-4417-9d2a-6d17db8b8d36",
        "colab": {
          "base_uri": "https://localhost:8080/"
        }
      },
      "execution_count": 24,
      "outputs": [
        {
          "output_type": "stream",
          "name": "stdout",
          "text": [
            "[ 0.          0.01200915  0.0240183  ... -0.03602746 -0.0240183\n",
            " -0.01200915]\n"
          ]
        }
      ]
    },
    {
      "cell_type": "code",
      "source": [
        "search_result_q2 = lk.search_lightcurve('KIC ' + str(KOI_first_100['kepid'][0]), author='Kepler', quarter=2)\n",
        "lc = search_result_q2.download()\n",
        "lc_flatten = lc.flatten()\n",
        "flux_small = lc_flatten['flux'].value\n",
        "time_small = lc_flatten['time'].value\n",
        "\n",
        "plt.plot(time_small, flux_small)\n",
        "plt.xlabel('Time (days)')\n",
        "plt.ylabel('Flux (Normalized)')"
      ],
      "metadata": {
        "id": "rfQmseOv4lx2",
        "outputId": "fdde63d9-86b1-4d6e-a70e-f0a8c4c78982",
        "colab": {
          "base_uri": "https://localhost:8080/",
          "height": 297
        }
      },
      "execution_count": 25,
      "outputs": [
        {
          "output_type": "execute_result",
          "data": {
            "text/plain": [
              "Text(0, 0.5, 'Flux (Normalized)')"
            ]
          },
          "metadata": {},
          "execution_count": 25
        },
        {
          "output_type": "display_data",
          "data": {
            "text/plain": [
              "<Figure size 432x288 with 1 Axes>"
            ],
            "image/png": "[encoded data removed]"
          },
          "metadata": {
            "needs_background": "light"
          }
        }
      ]
    },
    {
      "cell_type": "code",
      "source": [
        "# One of the flux after removing dominant frequencies\n",
        "flux = np.array(flux)\n",
        "time = np.array(time)\n",
        "plt.plot(time[20], flux[20])\n",
        "plt.xlabel('Time (days)')\n",
        "plt.ylabel('Flux (Normalized)')"
      ],
      "metadata": {
        "colab": {
          "base_uri": "https://localhost:8080/",
          "height": 388
        },
        "id": "bwn8DFkErarE",
        "outputId": "42fe40f5-125b-440e-a439-ef43204edef3"
      },
      "execution_count": 26,
      "outputs": [
        {
          "output_type": "stream",
          "name": "stderr",
          "text": [
            "/usr/local/lib/python3.7/dist-packages/ipykernel_launcher.py:2: VisibleDeprecationWarning: Creating an ndarray from ragged nested sequences (which is a list-or-tuple of lists-or-tuples-or ndarrays with different lengths or shapes) is deprecated. If you meant to do this, you must specify 'dtype=object' when creating the ndarray.\n",
            "  \n",
            "/usr/local/lib/python3.7/dist-packages/ipykernel_launcher.py:3: VisibleDeprecationWarning: Creating an ndarray from ragged nested sequences (which is a list-or-tuple of lists-or-tuples-or ndarrays with different lengths or shapes) is deprecated. If you meant to do this, you must specify 'dtype=object' when creating the ndarray.\n",
            "  This is separate from the ipykernel package so we can avoid doing imports until\n"
          ]
        },
        {
          "output_type": "execute_result",
          "data": {
            "text/plain": [
              "Text(0, 0.5, 'Flux (Normalized)')"
            ]
          },
          "metadata": {},
          "execution_count": 26
        },
        {
          "output_type": "display_data",
          "data": {
            "text/plain": [
              "<Figure size 432x288 with 1 Axes>"
            ],
            "image/png": "[encoded data removed]"
          },
          "metadata": {
            "needs_background": "light"
          }
        }
      ]
    },
    {
      "cell_type": "code",
      "source": [
        "df = {'Flux': flux,\n",
        "      'Radius': KOI_first_100['koi_prad']}\n",
        "df = pd.DataFrame(df)"
      ],
      "metadata": {
        "id": "bznFBLaXt8Yf"
      },
      "execution_count": 27,
      "outputs": []
    },
    {
      "cell_type": "markdown",
      "source": [
        "## Having a problem splitting the DF for CNN training"
      ],
      "metadata": {
        "id": "S_xPfvqjXca4"
      }
    },
    {
      "cell_type": "code",
      "source": [
        "X, y = df['Flux'], df['Radius']\n",
        "\n",
        "X_train, X_test, y_train, y_test = train_test_split(X, y, test_size=0.2, random_state=1)\n",
        "\n",
        "X_train, X_val, y_train, y_val = train_test_split(X_train, y_train, test_size=0.25, random_state=1) # 0.25 x 0.8 = 0.2\n",
        "\n",
        "X_train, X_test, y_train, y_test, X_val, y_val = np.array(X_train), np.array(X_test), np.array(y_train), np.array(y_test), np.array(X_val), np.array(y_val)"
      ],
      "metadata": {
        "id": "SxxGc0sAy-wo"
      },
      "execution_count": 28,
      "outputs": []
    },
    {
      "cell_type": "code",
      "source": [
        "import tensorflow as tf\n",
        "from tensorflow import keras\n",
        "def plot_history(history):\n",
        "  plt.figure()\n",
        "  plt.xlabel('Epoch')\n",
        "  plt.ylabel('Mean abs error [1000$]')\n",
        "  plt.plot(history.epoch, np.array(history.history['mae']),\n",
        "           label='Train')\n",
        "  plt.plot(history.epoch, np.array(history.history['val_mae']),\n",
        "           label='Val')\n",
        "  plt.legend()\n",
        "  plt.yliim([0, max(history.history['val_mae'])])\n",
        "\n",
        "def plot_prediction(test_labels, test_predictions):\n",
        "  plt.figure()\n",
        "  plt.scatter(test_labels, test_predictions)\n",
        "  plt.xlabel('True Values [1000$]')\n",
        "  plt.ylabel('Predictions [1000$]')\n",
        "  plt.axis('equal')\n",
        "  plt.xlim(plt.xlim())\n",
        "  plt.ylim(plt.ylim())\n",
        "  _ = plt.plot([-100, 100], [-100, 100])\n",
        "  \n",
        "  plt.figure()\n",
        "  error = test_predictions - test_labels\n",
        "  plt.hist(error, bins = 50)\n",
        "  plt.xlabel('Prediction Error [1000$]')\n",
        "  _ = plt.ylabel('Count')"
      ],
      "metadata": {
        "id": "E29VvJqPm6IV"
      },
      "execution_count": 29,
      "outputs": []
    },
    {
      "cell_type": "code",
      "source": [
        "def build_model():\n",
        "  model = keras.Sequential([\n",
        "      keras.layers.Input(shape=X_train.shape),\n",
        "      keras.layers.Dense(64, activation=tf.nn.relu),\n",
        "      keras.layers.Dense(64, activation=tf.nn.relu),\n",
        "      keras.layers.Dense(1)\n",
        "  ], name='MLP_model')\n",
        "\n",
        "  optimizer = tf.keras.optimizers.RMSprop(0.001)\n",
        "\n",
        "  model.compile(loss='mse', \n",
        "                optimizer=optimizer,\n",
        "                metrics=['mae'])\n",
        "  return model\n",
        "\n",
        "\n",
        "model = build_model()\n",
        "model.summary()"
      ],
      "metadata": {
        "id": "SF5DtZcyoOo-",
        "outputId": "b4648c3f-860c-402c-c6ba-2e933872de98",
        "colab": {
          "base_uri": "https://localhost:8080/"
        }
      },
      "execution_count": 30,
      "outputs": [
        {
          "output_type": "stream",
          "name": "stdout",
          "text": [
            "Model: \"MLP_model\"\n",
            "_________________________________________________________________\n",
            " Layer (type)                Output Shape              Param #   \n",
            "=================================================================\n",
            " dense (Dense)               (None, 64)                3904      \n",
            "                                                                 \n",
            " dense_1 (Dense)             (None, 64)                4160      \n",
            "                                                                 \n",
            " dense_2 (Dense)             (None, 1)                 65        \n",
            "                                                                 \n",
            "=================================================================\n",
            "Total params: 8,129\n",
            "Trainable params: 8,129\n",
            "Non-trainable params: 0\n",
            "_________________________________________________________________\n"
          ]
        }
      ]
    },
    {
      "cell_type": "code",
      "source": [
        "EPOCHS = 500\n",
        "# Store training stats\n",
        "history = model.fit(X_train, y_train, epochs=EPOCHS, validation_split=0.2, verbose=1)"
      ],
      "metadata": {
        "id": "Ewac198Dp2dZ",
        "outputId": "4ea5ca01-402b-428f-f4f7-ae5c02c65759",
        "colab": {
          "base_uri": "https://localhost:8080/",
          "height": 371
        }
      },
      "execution_count": 31,
      "outputs": [
        {
          "output_type": "error",
          "ename": "ValueError",
          "evalue": "ignored",
          "traceback": [
            "\u001b[0;31m---------------------------------------------------------------------------\u001b[0m",
            "\u001b[0;31mValueError\u001b[0m                                Traceback (most recent call last)",
            "\u001b[0;32m<ipython-input-31-492e00462156>\u001b[0m in \u001b[0;36m<module>\u001b[0;34m\u001b[0m\n\u001b[1;32m      1\u001b[0m \u001b[0mEPOCHS\u001b[0m \u001b[0;34m=\u001b[0m \u001b[0;36m500\u001b[0m\u001b[0;34m\u001b[0m\u001b[0;34m\u001b[0m\u001b[0m\n\u001b[1;32m      2\u001b[0m \u001b[0;31m# Store training stats\u001b[0m\u001b[0;34m\u001b[0m\u001b[0;34m\u001b[0m\u001b[0;34m\u001b[0m\u001b[0m\n\u001b[0;32m----> 3\u001b[0;31m \u001b[0mhistory\u001b[0m \u001b[0;34m=\u001b[0m \u001b[0mmodel\u001b[0m\u001b[0;34m.\u001b[0m\u001b[0mfit\u001b[0m\u001b[0;34m(\u001b[0m\u001b[0mX_train\u001b[0m\u001b[0;34m,\u001b[0m \u001b[0my_train\u001b[0m\u001b[0;34m,\u001b[0m \u001b[0mepochs\u001b[0m\u001b[0;34m=\u001b[0m\u001b[0mEPOCHS\u001b[0m\u001b[0;34m,\u001b[0m \u001b[0mvalidation_split\u001b[0m\u001b[0;34m=\u001b[0m\u001b[0;36m0.2\u001b[0m\u001b[0;34m,\u001b[0m \u001b[0mverbose\u001b[0m\u001b[0;34m=\u001b[0m\u001b[0;36m1\u001b[0m\u001b[0;34m)\u001b[0m\u001b[0;34m\u001b[0m\u001b[0;34m\u001b[0m\u001b[0m\n\u001b[0m",
            "\u001b[0;32m/usr/local/lib/python3.7/dist-packages/keras/utils/traceback_utils.py\u001b[0m in \u001b[0;36merror_handler\u001b[0;34m(*args, **kwargs)\u001b[0m\n\u001b[1;32m     65\u001b[0m     \u001b[0;32mexcept\u001b[0m \u001b[0mException\u001b[0m \u001b[0;32mas\u001b[0m \u001b[0me\u001b[0m\u001b[0;34m:\u001b[0m  \u001b[0;31m# pylint: disable=broad-except\u001b[0m\u001b[0;34m\u001b[0m\u001b[0;34m\u001b[0m\u001b[0m\n\u001b[1;32m     66\u001b[0m       \u001b[0mfiltered_tb\u001b[0m \u001b[0;34m=\u001b[0m \u001b[0m_process_traceback_frames\u001b[0m\u001b[0;34m(\u001b[0m\u001b[0me\u001b[0m\u001b[0;34m.\u001b[0m\u001b[0m__traceback__\u001b[0m\u001b[0;34m)\u001b[0m\u001b[0;34m\u001b[0m\u001b[0;34m\u001b[0m\u001b[0m\n\u001b[0;32m---> 67\u001b[0;31m       \u001b[0;32mraise\u001b[0m \u001b[0me\u001b[0m\u001b[0;34m.\u001b[0m\u001b[0mwith_traceback\u001b[0m\u001b[0;34m(\u001b[0m\u001b[0mfiltered_tb\u001b[0m\u001b[0;34m)\u001b[0m \u001b[0;32mfrom\u001b[0m \u001b[0;32mNone\u001b[0m\u001b[0;34m\u001b[0m\u001b[0;34m\u001b[0m\u001b[0m\n\u001b[0m\u001b[1;32m     68\u001b[0m     \u001b[0;32mfinally\u001b[0m\u001b[0;34m:\u001b[0m\u001b[0;34m\u001b[0m\u001b[0;34m\u001b[0m\u001b[0m\n\u001b[1;32m     69\u001b[0m       \u001b[0;32mdel\u001b[0m \u001b[0mfiltered_tb\u001b[0m\u001b[0;34m\u001b[0m\u001b[0;34m\u001b[0m\u001b[0m\n",
            "\u001b[0;32m/usr/local/lib/python3.7/dist-packages/tensorflow/python/framework/constant_op.py\u001b[0m in \u001b[0;36mconvert_to_eager_tensor\u001b[0;34m(value, ctx, dtype)\u001b[0m\n\u001b[1;32m    100\u001b[0m       \u001b[0mdtype\u001b[0m \u001b[0;34m=\u001b[0m \u001b[0mdtypes\u001b[0m\u001b[0;34m.\u001b[0m\u001b[0mas_dtype\u001b[0m\u001b[0;34m(\u001b[0m\u001b[0mdtype\u001b[0m\u001b[0;34m)\u001b[0m\u001b[0;34m.\u001b[0m\u001b[0mas_datatype_enum\u001b[0m\u001b[0;34m\u001b[0m\u001b[0;34m\u001b[0m\u001b[0m\n\u001b[1;32m    101\u001b[0m   \u001b[0mctx\u001b[0m\u001b[0;34m.\u001b[0m\u001b[0mensure_initialized\u001b[0m\u001b[0;34m(\u001b[0m\u001b[0;34m)\u001b[0m\u001b[0;34m\u001b[0m\u001b[0;34m\u001b[0m\u001b[0m\n\u001b[0;32m--> 102\u001b[0;31m   \u001b[0;32mreturn\u001b[0m \u001b[0mops\u001b[0m\u001b[0;34m.\u001b[0m\u001b[0mEagerTensor\u001b[0m\u001b[0;34m(\u001b[0m\u001b[0mvalue\u001b[0m\u001b[0;34m,\u001b[0m \u001b[0mctx\u001b[0m\u001b[0;34m.\u001b[0m\u001b[0mdevice_name\u001b[0m\u001b[0;34m,\u001b[0m \u001b[0mdtype\u001b[0m\u001b[0;34m)\u001b[0m\u001b[0;34m\u001b[0m\u001b[0;34m\u001b[0m\u001b[0m\n\u001b[0m\u001b[1;32m    103\u001b[0m \u001b[0;34m\u001b[0m\u001b[0m\n\u001b[1;32m    104\u001b[0m \u001b[0;34m\u001b[0m\u001b[0m\n",
            "\u001b[0;31mValueError\u001b[0m: Failed to convert a NumPy array to a Tensor (Unsupported object type numpy.ndarray)."
          ]
        }
      ]
    },
    {
      "cell_type": "code",
      "source": [],
      "metadata": {
        "id": "cS5YTad-1ebj"
      },
      "execution_count": null,
      "outputs": []
    }
  ]
}