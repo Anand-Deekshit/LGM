{
  "nbformat": 4,
  "nbformat_minor": 0,
  "metadata": {
    "colab": {
      "provenance": [],
      "collapsed_sections": [],
      "authorship_tag": "ABX9TyOnn5XtygpZxCZusLKKPvw/",
      "include_colab_link": true
    },
    "kernelspec": {
      "name": "python3",
      "display_name": "Python 3"
    },
    "language_info": {
      "name": "python"
    }
  },
  "cells": [
    {
      "cell_type": "markdown",
      "metadata": {
        "id": "view-in-github",
        "colab_type": "text"
      },
      "source": [
        "<a href=\"https://colab.research.google.com/github/nicholasproietti/LGM/blob/main/Light_Curve_Simulation.ipynb\" target=\"_parent\"><img src=\"https://colab.research.google.com/assets/colab-badge.svg\" alt=\"Open In Colab\"/></a>"
      ]
    },
    {
      "cell_type": "code",
      "source": [
        "import numpy as np\n",
        "import matplotlib.pyplot as plt\n",
        "import random\n",
        "from scipy.special import logsumexp"
      ],
      "metadata": {
        "id": "NeNrWtmmmFCA"
      },
      "execution_count": null,
      "outputs": []
    },
    {
      "cell_type": "code",
      "execution_count": null,
      "metadata": {
        "id": "xdnA14ryhoCM"
      },
      "outputs": [],
      "source": [
        "# range of stellar luminosity 10^(-4)L_sun to 10^6 Lsun\n",
        "\n",
        "# say we pick a random number from powers of 10 from 1 to 10^10 (in the order of 10^-4)\n",
        "\n",
        "# generate light signal over time and add small random noise at each time interval\n",
        "#select a random time and add a big random dip to the light signal for a certain amount of time(representing a planet transit)"
      ]
    },
    {
      "cell_type": "code",
      "source": [
        "luminosities = []\n",
        "\n",
        "for i in range(0, 11):\n",
        "  luminosities.append(10 ** i)\n",
        "  \n",
        "luminosities"
      ],
      "metadata": {
        "colab": {
          "base_uri": "https://localhost:8080/"
        },
        "id": "WKgFfMJ_jsuW",
        "outputId": "c8300d68-cdcd-483d-ab00-355e945a8bc5"
      },
      "execution_count": null,
      "outputs": [
        {
          "output_type": "execute_result",
          "data": {
            "text/plain": [
              "[1,\n",
              " 10,\n",
              " 100,\n",
              " 1000,\n",
              " 10000,\n",
              " 100000,\n",
              " 1000000,\n",
              " 10000000,\n",
              " 100000000,\n",
              " 1000000000,\n",
              " 10000000000]"
            ]
          },
          "metadata": {},
          "execution_count": 4
        }
      ]
    },
    {
      "cell_type": "code",
      "source": [
        "# orbital period of planets range from 10^-1 days to 10^6 days\n",
        "# most planet transits last from 3 to 5 hrs. Lets say they last from 2 to 6 hrs"
      ],
      "metadata": {
        "id": "FctASF4WkCuy"
      },
      "execution_count": null,
      "outputs": []
    },
    {
      "cell_type": "code",
      "source": [
        "times = np.arange(0, 40, 0.01)\n",
        "times[:10]\n",
        "times.shape"
      ],
      "metadata": {
        "colab": {
          "base_uri": "https://localhost:8080/"
        },
        "id": "HFLdpI_olvJf",
        "outputId": "97d9ec80-e2f0-466d-cc1b-6e89c565869c"
      },
      "execution_count": null,
      "outputs": [
        {
          "output_type": "execute_result",
          "data": {
            "text/plain": [
              "(4000,)"
            ]
          },
          "metadata": {},
          "execution_count": 6
        }
      ]
    },
    {
      "cell_type": "code",
      "source": [
        "def get_noise_threshold(luminosity):\n",
        "  index = np.where(luminosities == luminosity)\n",
        "  return 4 ** index[0]"
      ],
      "metadata": {
        "id": "JdnjeQ10pFYJ"
      },
      "execution_count": null,
      "outputs": []
    },
    {
      "cell_type": "code",
      "source": [
        "# pick a random luminosity\n",
        "random_luminosity = np.random.choice(luminosities)\n",
        "print(random_luminosity)\n",
        "# plot the light signal over time with random noise\n",
        "noise_threshold = get_noise_threshold(random_luminosity)[0]\n",
        "print(noise_threshold)\n",
        "luminosity_over_time = []\n",
        "for time in times:\n",
        "  noise = random.uniform(-1 * noise_threshold, noise_threshold)\n",
        "  luminosity_over_time.append(random_luminosity + noise)\n",
        "\n",
        "normalized_luminosity = luminosity_over_time / random_luminosity\n",
        "\n",
        "luminosity_over_time[:10]"
      ],
      "metadata": {
        "colab": {
          "base_uri": "https://localhost:8080/"
        },
        "id": "W6O991dcmA7X",
        "outputId": "b71451dc-a0b3-410e-8f4c-6adc38451d5f"
      },
      "execution_count": null,
      "outputs": [
        {
          "output_type": "stream",
          "name": "stdout",
          "text": [
            "100000\n",
            "1024\n"
          ]
        },
        {
          "output_type": "execute_result",
          "data": {
            "text/plain": [
              "[100792.67288786336,\n",
              " 100221.32342449148,\n",
              " 100575.73317338359,\n",
              " 100638.42767094988,\n",
              " 100821.01845028653,\n",
              " 99286.83970947703,\n",
              " 99032.30808543102,\n",
              " 100861.80699712303,\n",
              " 100145.89414493601,\n",
              " 98990.75035661709]"
            ]
          },
          "metadata": {},
          "execution_count": 34
        }
      ]
    },
    {
      "cell_type": "code",
      "source": [
        "plt.plot(times, normalized_luminosity)\n",
        "# plt.ylim([(random_luminosity - noise_threshold) / random_luminosity, (random_luminosity + noise_threshold) / random_luminosity])"
      ],
      "metadata": {
        "colab": {
          "base_uri": "https://localhost:8080/",
          "height": 283
        },
        "id": "hiJ37P9Qmo0q",
        "outputId": "a7298cee-3963-4647-b4fb-cd8557919104"
      },
      "execution_count": null,
      "outputs": [
        {
          "output_type": "execute_result",
          "data": {
            "text/plain": [
              "[<matplotlib.lines.Line2D at 0x7ff815f69290>]"
            ]
          },
          "metadata": {},
          "execution_count": 35
        },
        {
          "output_type": "display_data",
          "data": {
            "text/plain": [
              "<Figure size 432x288 with 1 Axes>"
            ],
            "image/png": "[encoded data removed]"
          },
          "metadata": {
            "needs_background": "light"
          }
        }
      ]
    },
    {
      "cell_type": "code",
      "source": [
        "# Plot relative flux on the y axis\n",
        "# delta(F)/F = (Rp)^2 / (R*)^2"
      ],
      "metadata": {
        "id": "GQWFXywenXJZ"
      },
      "execution_count": null,
      "outputs": []
    },
    {
      "cell_type": "code",
      "source": [
        "# parameters needed to calculate transit time\n",
        "# 1. Radius of the star (R*)\n",
        "# 2. Radius of the planet (Rp)\n",
        "# 3. Time Period of the planet (P)\n",
        "# 4. Semi-major axis of the orbit (a)\n",
        "# 5. Impact parameter (b)"
      ],
      "metadata": {
        "id": "yiOi0aidbKj8"
      },
      "execution_count": null,
      "outputs": []
    },
    {
      "cell_type": "code",
      "source": [
        "# stellar temps range from 3000 K to 30,000 K (consider only main-sequence stars)\n",
        "temps = []\n",
        "temp = 4000\n",
        "\n",
        "while temp <= 30000:\n",
        "  temp = temp + 10\n",
        "  temps.append(temp)"
      ],
      "metadata": {
        "id": "-EHsquQBbkJ8"
      },
      "execution_count": null,
      "outputs": []
    },
    {
      "cell_type": "code",
      "source": [
        "# pick a random temp\n",
        "random_temp = np.random.randint(4000, 30000)\n",
        "print(random_temp)\n",
        "# calculate the radius using L = 4*pi*(R*)^2*sigma*T^4\n",
        "solar_luminosity = 3.828 * (10 ** 26)\n",
        "sigma = 5.67 * (10 ** (-8))\n",
        "luminosity_true = random_luminosity * (10 ** (-4)) * solar_luminosity\n",
        "star_radius = np.sqrt(luminosity_true / (4 * np.pi * sigma * (random_temp ** 4)))\n",
        "star_radius"
      ],
      "metadata": {
        "colab": {
          "base_uri": "https://localhost:8080/"
        },
        "id": "XNRfAWxVh-Xt",
        "outputId": "75a5e294-716d-495b-c740-9f12c53d361a"
      },
      "execution_count": null,
      "outputs": [
        {
          "output_type": "stream",
          "name": "stdout",
          "text": [
            "10123\n"
          ]
        },
        {
          "output_type": "execute_result",
          "data": {
            "text/plain": [
              "715271678.6581576"
            ]
          },
          "metadata": {},
          "execution_count": 39
        }
      ]
    },
    {
      "cell_type": "code",
      "source": [
        "# radii of exoplanets range from 10^6 to 10^8 mts\n",
        "planet_radius_orders = []\n",
        "for i in range(0, 3):\n",
        "  planet_radius_orders.append(10**6 * 10**i)\n",
        "planet_radius_orders"
      ],
      "metadata": {
        "colab": {
          "base_uri": "https://localhost:8080/"
        },
        "id": "QFLyypJr7dlS",
        "outputId": "43ccee7e-1068-4f17-c312-06b4901ebb9f"
      },
      "execution_count": null,
      "outputs": [
        {
          "output_type": "execute_result",
          "data": {
            "text/plain": [
              "[1000000, 10000000, 100000000]"
            ]
          },
          "metadata": {},
          "execution_count": 40
        }
      ]
    },
    {
      "cell_type": "code",
      "source": [
        "# get random planet radius\n",
        "random_planet_radius = np.random.randint(1, 10) * np.random.choice(planet_radius_orders)\n",
        "random_planet_radius"
      ],
      "metadata": {
        "colab": {
          "base_uri": "https://localhost:8080/"
        },
        "id": "V7HibD8AGmGC",
        "outputId": "95a05134-0361-4334-fccf-1e53b471e96d"
      },
      "execution_count": null,
      "outputs": [
        {
          "output_type": "execute_result",
          "data": {
            "text/plain": [
              "100000000"
            ]
          },
          "metadata": {},
          "execution_count": 41
        }
      ]
    },
    {
      "cell_type": "code",
      "source": [
        "# need period and semi-major axis and the impact parameter to calculate transit time\n",
        "# for now assume the impact parameter is 1 for simplicity\n",
        "# Period (P) = 2*pi*sqrt(a^3/(GM*))\n",
        "# L/L_sun = (M/M_sun)^n where 1 < n < 6. n = 3.5 for main sequence stars\n",
        "solar_mass = 1.98 * (10 ** 30)\n",
        "print(luminosity_true / solar_luminosity)\n",
        "star_mass = solar_mass * ((luminosity_true / solar_luminosity) ** (1/3.5))\n",
        "star_mass"
      ],
      "metadata": {
        "colab": {
          "base_uri": "https://localhost:8080/"
        },
        "id": "LSmH4B5THjiJ",
        "outputId": "df334627-6204-4dbc-f6d7-44439af1a59c"
      },
      "execution_count": null,
      "outputs": [
        {
          "output_type": "stream",
          "name": "stdout",
          "text": [
            "10.0\n"
          ]
        },
        {
          "output_type": "execute_result",
          "data": {
            "text/plain": [
              "3.8227815031888353e+30"
            ]
          },
          "metadata": {},
          "execution_count": 42
        }
      ]
    },
    {
      "cell_type": "code",
      "source": [
        "# So we can write period in terms of the semi-major axis and the mass of the star\n",
        "# Semi-major axis of exoplanets range from 0.01 AU to 10 AU\n",
        "semi_major_axis_orders = []\n",
        "AU_order = 10 ** 11\n",
        "\n",
        "for i in range(0, 4):\n",
        "  semi_major_axis_orders.append(AU_order * (10 ** -2) * (10 ** i))\n",
        "semi_major_axis_orders"
      ],
      "metadata": {
        "colab": {
          "base_uri": "https://localhost:8080/"
        },
        "id": "gCFxrGsVJ9jj",
        "outputId": "280abb49-8c16-4455-9f77-9f1b20376bb4"
      },
      "execution_count": null,
      "outputs": [
        {
          "output_type": "execute_result",
          "data": {
            "text/plain": [
              "[1000000000.0, 10000000000.0, 100000000000.0, 1000000000000.0]"
            ]
          },
          "metadata": {},
          "execution_count": 43
        }
      ]
    },
    {
      "cell_type": "code",
      "source": [
        "# Again pick a random semi-major axis\n",
        "random_semi_major_axis = np.random.randint(1, 10) * np.random.choice(semi_major_axis_orders)\n",
        "random_semi_major_axis"
      ],
      "metadata": {
        "colab": {
          "base_uri": "https://localhost:8080/"
        },
        "id": "Y4VJNJThOU4_",
        "outputId": "cfcb09f4-1b93-49dc-f05f-ed5f86fb1a28"
      },
      "execution_count": null,
      "outputs": [
        {
          "output_type": "execute_result",
          "data": {
            "text/plain": [
              "5000000000.0"
            ]
          },
          "metadata": {},
          "execution_count": 45
        }
      ]
    },
    {
      "cell_type": "code",
      "source": [
        "# period\n",
        "G = 6.6743 * (10 ** (-11))\n",
        "P = 2 * np.pi * ((random_semi_major_axis ** 3 / (G * star_mass))** 0.5)\n",
        "P # in secs"
      ],
      "metadata": {
        "colab": {
          "base_uri": "https://localhost:8080/"
        },
        "id": "ny2W2dRfVuDG",
        "outputId": "1395e95f-ac68-4b4a-b920-8578c48bcc69"
      },
      "execution_count": null,
      "outputs": [
        {
          "output_type": "execute_result",
          "data": {
            "text/plain": [
              "139072.82449915624"
            ]
          },
          "metadata": {},
          "execution_count": 46
        }
      ]
    },
    {
      "cell_type": "code",
      "source": [
        "# now we have everything to calculate the transit time\n",
        "star_radius_and_planet_radius = star_radius + random_planet_radius\n",
        "impact_parameter = 0\n",
        "transit_time = (P / np.pi) * np.arcsin(((star_radius_and_planet_radius ** 2 - impact_parameter * star_radius ** 2) ** 0.5) / random_semi_major_axis)\n",
        "\n",
        "transit_time_hrs = transit_time / 3600\n",
        "transit_time_hrs"
      ],
      "metadata": {
        "id": "FVY2rCytOjwr",
        "colab": {
          "base_uri": "https://localhost:8080/"
        },
        "outputId": "a4a8a643-8f0b-4cac-c1f1-826731c95595"
      },
      "execution_count": null,
      "outputs": [
        {
          "output_type": "execute_result",
          "data": {
            "text/plain": [
              "2.014028925653196"
            ]
          },
          "metadata": {},
          "execution_count": 47
        }
      ]
    },
    {
      "cell_type": "code",
      "source": [
        "# making some mistake here. have to figure it out\n",
        "init_time = int(times[-1] / int(transit_time_hrs))\n",
        "final_time = int(times[-1] - (times[-1] / int(transit_time_hrs)))\n",
        "init_index = np.where(times == init_time)[0][0]\n",
        "final_index = np.where(times == final_time)[0][0]\n",
        "normalized_luminosity[init_index:final_index] = np.multiply(normalized_luminosity[init_index:final_index], ((star_radius ** 2) / (random_planet_radius ** 2)))"
      ],
      "metadata": {
        "id": "IQIYLOGqQLsi"
      },
      "execution_count": null,
      "outputs": []
    },
    {
      "cell_type": "code",
      "source": [],
      "metadata": {
        "id": "ccm2wprBVD81",
        "colab": {
          "base_uri": "https://localhost:8080/",
          "height": 283
        },
        "outputId": "6e452873-7b92-488b-bf3f-444d5946c0ff"
      },
      "execution_count": null,
      "outputs": [
        {
          "output_type": "execute_result",
          "data": {
            "text/plain": [
              "[<matplotlib.lines.Line2D at 0x7f3f01e7f050>]"
            ]
          },
          "metadata": {},
          "execution_count": 21
        },
        {
          "output_type": "display_data",
          "data": {
            "text/plain": [
              "<Figure size 432x288 with 1 Axes>"
            ],
            "image/png": "[encoded data removed]"
          },
          "metadata": {
            "needs_background": "light"
          }
        }
      ]
    },
    {
      "cell_type": "code",
      "source": [],
      "metadata": {
        "id": "wNzb-PGhvCFz"
      },
      "execution_count": null,
      "outputs": []
    }
  ]
}