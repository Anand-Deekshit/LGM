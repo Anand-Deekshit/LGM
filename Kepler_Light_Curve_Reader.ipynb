{
  "cells": [
    {
      "cell_type": "markdown",
      "metadata": {
        "id": "view-in-github",
        "colab_type": "text"
      },
      "source": [
        "<a href=\"https://colab.research.google.com/github/nicholasproietti/LGM/blob/main/Kepler_Light_Curve_Reader.ipynb\" target=\"_parent\"><img src=\"https://colab.research.google.com/assets/colab-badge.svg\" alt=\"Open In Colab\"/></a>"
      ]
    },
    {
      "cell_type": "code",
      "execution_count": null,
      "metadata": {
        "id": "qbKXrKF-dwwB"
      },
      "outputs": [],
      "source": [
        "#%matplotlib notebook\n",
        "from astropy.io import fits\n",
        "from astropy.table import Table \n",
        "import matplotlib.pyplot as plt"
      ]
    },
    {
      "cell_type": "code",
      "source": [
        "!pip install astroquery"
      ],
      "metadata": {
        "colab": {
          "base_uri": "https://localhost:8080/"
        },
        "id": "VmYN7WkOz9LW",
        "outputId": "92f896f4-8222-4fa0-c1f6-71160b7056cc"
      },
      "execution_count": null,
      "outputs": [
        {
          "output_type": "stream",
          "name": "stdout",
          "text": [
            "Looking in indexes: https://pypi.org/simple, https://us-python.pkg.dev/colab-wheels/public/simple/\n",
            "Collecting astroquery\n",
            "  Downloading astroquery-0.4.6-py3-none-any.whl (4.5 MB)\n",
            "\u001b[K     |████████████████████████████████| 4.5 MB 4.2 MB/s \n",
            "\u001b[?25hRequirement already satisfied: html5lib>=0.999 in /usr/local/lib/python3.7/dist-packages (from astroquery) (1.0.1)\n",
            "Collecting pyvo>=1.1\n",
            "  Downloading pyvo-1.2.1-py3-none-any.whl (832 kB)\n",
            "\u001b[K     |████████████████████████████████| 832 kB 43.9 MB/s \n",
            "\u001b[?25hCollecting keyring>=4.0\n",
            "  Downloading keyring-23.9.1-py3-none-any.whl (35 kB)\n",
            "Requirement already satisfied: requests>=2.4.3 in /usr/local/lib/python3.7/dist-packages (from astroquery) (2.23.0)\n",
            "Requirement already satisfied: numpy>=1.16 in /usr/local/lib/python3.7/dist-packages (from astroquery) (1.21.6)\n",
            "Requirement already satisfied: astropy>=4.0 in /usr/local/lib/python3.7/dist-packages (from astroquery) (4.3.1)\n",
            "Requirement already satisfied: beautifulsoup4>=4.3.2 in /usr/local/lib/python3.7/dist-packages (from astroquery) (4.6.3)\n",
            "Requirement already satisfied: pyerfa>=1.7.3 in /usr/local/lib/python3.7/dist-packages (from astropy>=4.0->astroquery) (2.0.0.1)\n",
            "Requirement already satisfied: importlib-metadata in /usr/local/lib/python3.7/dist-packages (from astropy>=4.0->astroquery) (4.12.0)\n",
            "Requirement already satisfied: six>=1.9 in /usr/local/lib/python3.7/dist-packages (from html5lib>=0.999->astroquery) (1.15.0)\n",
            "Requirement already satisfied: webencodings in /usr/local/lib/python3.7/dist-packages (from html5lib>=0.999->astroquery) (0.5.1)\n",
            "Collecting jaraco.classes\n",
            "  Downloading jaraco.classes-3.2.2-py3-none-any.whl (6.0 kB)\n",
            "Collecting SecretStorage>=3.2\n",
            "  Downloading SecretStorage-3.3.3-py3-none-any.whl (15 kB)\n",
            "Collecting jeepney>=0.4.2\n",
            "  Downloading jeepney-0.8.0-py3-none-any.whl (48 kB)\n",
            "\u001b[K     |████████████████████████████████| 48 kB 5.2 MB/s \n",
            "\u001b[?25hRequirement already satisfied: typing-extensions>=3.6.4 in /usr/local/lib/python3.7/dist-packages (from importlib-metadata->astropy>=4.0->astroquery) (4.1.1)\n",
            "Requirement already satisfied: zipp>=0.5 in /usr/local/lib/python3.7/dist-packages (from importlib-metadata->astropy>=4.0->astroquery) (3.8.1)\n",
            "Requirement already satisfied: chardet<4,>=3.0.2 in /usr/local/lib/python3.7/dist-packages (from requests>=2.4.3->astroquery) (3.0.4)\n",
            "Requirement already satisfied: idna<3,>=2.5 in /usr/local/lib/python3.7/dist-packages (from requests>=2.4.3->astroquery) (2.10)\n",
            "Requirement already satisfied: certifi>=2017.4.17 in /usr/local/lib/python3.7/dist-packages (from requests>=2.4.3->astroquery) (2022.6.15)\n",
            "Requirement already satisfied: urllib3!=1.25.0,!=1.25.1,<1.26,>=1.21.1 in /usr/local/lib/python3.7/dist-packages (from requests>=2.4.3->astroquery) (1.24.3)\n",
            "Collecting cryptography>=2.0\n",
            "  Downloading cryptography-38.0.1-cp36-abi3-manylinux_2_24_x86_64.whl (4.0 MB)\n",
            "\u001b[K     |████████████████████████████████| 4.0 MB 40.6 MB/s \n",
            "\u001b[?25hRequirement already satisfied: cffi>=1.12 in /usr/local/lib/python3.7/dist-packages (from cryptography>=2.0->SecretStorage>=3.2->keyring>=4.0->astroquery) (1.15.1)\n",
            "Requirement already satisfied: pycparser in /usr/local/lib/python3.7/dist-packages (from cffi>=1.12->cryptography>=2.0->SecretStorage>=3.2->keyring>=4.0->astroquery) (2.21)\n",
            "Requirement already satisfied: more-itertools in /usr/local/lib/python3.7/dist-packages (from jaraco.classes->keyring>=4.0->astroquery) (8.14.0)\n",
            "Installing collected packages: jeepney, cryptography, SecretStorage, jaraco.classes, pyvo, keyring, astroquery\n",
            "Successfully installed SecretStorage-3.3.3 astroquery-0.4.6 cryptography-38.0.1 jaraco.classes-3.2.2 jeepney-0.8.0 keyring-23.9.1 pyvo-1.2.1\n"
          ]
        }
      ]
    },
    {
      "cell_type": "code",
      "execution_count": null,
      "metadata": {
        "id": "vIWBMK-qd5Qi"
      },
      "outputs": [],
      "source": [
        "# Import libraries from astroquery\n",
        "\n",
        "from astroquery.mast import Mast\n",
        "from astroquery.mast import Observations"
      ]
    },
    {
      "cell_type": "code",
      "execution_count": null,
      "metadata": {
        "colab": {
          "base_uri": "https://localhost:8080/",
          "height": 172
        },
        "id": "SD5-bJ7ieb0K",
        "outputId": "e617cd93-7142-46b2-c3b5-39f8b3f2843f"
      },
      "outputs": [
        {
          "output_type": "execute_result",
          "data": {
            "text/plain": [
              "<Table masked=True length=1>\n",
              "obsID  obs_collection dataproduct_type ... parent_obsid dataRights calib_level\n",
              " str6       str6           str10       ...     str6        str6       int64   \n",
              "------ -------------- ---------------- ... ------------ ---------- -----------\n",
              "601031         Kepler       timeseries ...       601031     PUBLIC           2"
            ],
            "text/html": [
              "<div><i>Table masked=True length=1</i>\n",
              "<table id=\"table139946512970000\" class=\"table-striped table-bordered table-condensed\">\n",
              "<thead><tr><th>obsID</th><th>obs_collection</th><th>dataproduct_type</th><th>obs_id</th><th>description</th><th>type</th><th>dataURI</th><th>productType</th><th>productGroupDescription</th><th>productSubGroupDescription</th><th>productDocumentationURL</th><th>project</th><th>prvversion</th><th>proposal_id</th><th>productFilename</th><th>size</th><th>parent_obsid</th><th>dataRights</th><th>calib_level</th></tr></thead>\n",
              "<thead><tr><th>str6</th><th>str6</th><th>str10</th><th>str36</th><th>str60</th><th>str1</th><th>str110</th><th>str7</th><th>str28</th><th>str8</th><th>str1</th><th>str6</th><th>str1</th><th>str7</th><th>str44</th><th>int64</th><th>str6</th><th>str6</th><th>int64</th></tr></thead>\n",
              "<tr><td>601031</td><td>Kepler</td><td>timeseries</td><td>kplr011446443_sc_Q113313330333033302</td><td>Lightcurve Short Cadence (CSC) - Q0</td><td>C</td><td>mast:KEPLER/url/missions/kepler/lightcurves/0114/011446443/kplr011446443-2009131110544_slc.fits</td><td>SCIENCE</td><td>Minimum Recommended Products</td><td>SLC</td><td>--</td><td>Kepler</td><td>--</td><td>EX_STKS</td><td>kplr011446443-2009131110544_slc.fits</td><td>1457280</td><td>601031</td><td>PUBLIC</td><td>2</td></tr>\n",
              "</table></div>"
            ]
          },
          "metadata": {},
          "execution_count": 4
        }
      ],
      "source": [
        "# Search MAST portal for data of a particular Kepler target (target name, spacecraft)\n",
        "\n",
        "keplerObs = Observations.query_criteria(target_name='kplr011446443', obs_collection='Kepler')\n",
        "keplerProds = Observations.get_product_list(keplerObs[1])\n",
        "yourProd = Observations.filter_products(keplerProds, extension='kplr011446443-2009131110544_slc.fits', \n",
        "                                        mrp_only=False)\n",
        "yourProd\n",
        "\n"
      ]
    },
    {
      "cell_type": "code",
      "execution_count": null,
      "metadata": {
        "colab": {
          "base_uri": "https://localhost:8080/",
          "height": 138
        },
        "id": "WGrSOtPuekg5",
        "outputId": "5812482e-c389-4aeb-eb93-9a802fd89d26"
      },
      "outputs": [
        {
          "output_type": "stream",
          "name": "stdout",
          "text": [
            "Downloading URL https://mast.stsci.edu/api/v0.1/Download/file?uri=mast:KEPLER/url/missions/kepler/lightcurves/0114/011446443/kplr011446443-2009131110544_slc.fits to ./mastDownload/Kepler/kplr011446443_sc_Q113313330333033302/kplr011446443-2009131110544_slc.fits ... [Done]\n"
          ]
        },
        {
          "output_type": "execute_result",
          "data": {
            "text/plain": [
              "<Table length=1>\n",
              "                                           Local Path                                           ...\n",
              "                                             str95                                              ...\n",
              "----------------------------------------------------------------------------------------------- ...\n",
              "./mastDownload/Kepler/kplr011446443_sc_Q113313330333033302/kplr011446443-2009131110544_slc.fits ..."
            ],
            "text/html": [
              "<div><i>Table length=1</i>\n",
              "<table id=\"table139945980965712\" class=\"table-striped table-bordered table-condensed\">\n",
              "<thead><tr><th>Local Path</th><th>Status</th><th>Message</th><th>URL</th></tr></thead>\n",
              "<thead><tr><th>str95</th><th>str8</th><th>object</th><th>object</th></tr></thead>\n",
              "<tr><td>./mastDownload/Kepler/kplr011446443_sc_Q113313330333033302/kplr011446443-2009131110544_slc.fits</td><td>COMPLETE</td><td>None</td><td>None</td></tr>\n",
              "</table></div>"
            ]
          },
          "metadata": {},
          "execution_count": 5
        }
      ],
      "source": [
        "# Download the data file\n",
        "\n",
        "Observations.download_products(yourProd, mrp_only = False, cache = False) "
      ]
    },
    {
      "cell_type": "code",
      "execution_count": null,
      "metadata": {
        "colab": {
          "base_uri": "https://localhost:8080/"
        },
        "id": "BW9DE751el-I",
        "outputId": "1b40e43a-ccda-4fc4-918c-301ce7a3f506"
      },
      "outputs": [
        {
          "output_type": "stream",
          "name": "stdout",
          "text": [
            "Filename: ./mastDownload/Kepler/kplr011446443_sc_Q113313330333033302/kplr011446443-2009131110544_slc.fits\n",
            "No.    Name      Ver    Type      Cards   Dimensions   Format\n",
            "  0  PRIMARY       1 PrimaryHDU      58   ()      \n",
            "  1  LIGHTCURVE    1 BinTableHDU    155   14280R x 20C   [D, E, J, E, E, E, E, E, E, J, D, E, D, E, D, E, D, E, E, E]   \n",
            "  2  APERTURE      1 ImageHDU        48   (8, 9)   int32   \n"
          ]
        }
      ],
      "source": [
        "# See some information about the FITS Header Data Units:\n",
        "\n",
        "filename = \"./mastDownload/Kepler/kplr011446443_sc_Q113313330333033302/kplr011446443-2009131110544_slc.fits\"\n",
        "fits.info(filename)\n",
        "\n"
      ]
    },
    {
      "cell_type": "code",
      "execution_count": null,
      "metadata": {
        "colab": {
          "base_uri": "https://localhost:8080/"
        },
        "id": "0cwAPeRcevhR",
        "outputId": "8ac1ce0c-ec7e-4eea-d2c4-8ff582fc2516"
      },
      "outputs": [
        {
          "output_type": "stream",
          "name": "stdout",
          "text": [
            "XTENSION= 'BINTABLE'           / marks the beginning of a new HDU               \n",
            "BITPIX  =                    8 / array data type                                \n",
            "NAXIS   =                    2 / number of array dimensions                     \n",
            "NAXIS1  =                  100 / length of first array dimension                \n",
            "NAXIS2  =                14280 / length of second array dimension               \n",
            "PCOUNT  =                    0 / group parameter count (not used)               \n",
            "GCOUNT  =                    1 / group count (not used)                         \n",
            "TFIELDS =                   20 / number of table fields                         \n",
            "TTYPE1  = 'TIME    '           / column title: data time stamps                 \n",
            "TFORM1  = 'D       '           / column format: 64-bit floating point           \n",
            "TUNIT1  = 'BJD - 2454833'      / column units: barycenter corrected JD          \n",
            "TDISP1  = 'D14.7   '           / column display format                          \n",
            "TTYPE2  = 'TIMECORR'           / column title: barycenter - timeslice correction\n",
            "TFORM2  = 'E       '           / column format: 32-bit floating point           \n",
            "TUNIT2  = 'd       '           / column units: day                              \n",
            "TDISP2  = 'E13.6   '           / column display format                          \n",
            "TTYPE3  = 'CADENCENO'          / column title: unique cadence number            \n",
            "TFORM3  = 'J       '           / column format: signed 32-bit integer           \n",
            "TDISP3  = 'I10     '           / column display format                          \n",
            "TTYPE4  = 'SAP_FLUX'           / column title: aperture photometry flux         \n",
            "TFORM4  = 'E       '           / column format: 32-bit floating point           \n",
            "TUNIT4  = 'e-/s    '           / column units: electrons per second             \n",
            "TDISP4  = 'E14.7   '           / column display format                          \n",
            "TTYPE5  = 'SAP_FLUX_ERR'       / column title: aperture phot. flux error        \n"
          ]
        }
      ],
      "source": [
        "# Opens the FITS file, writes the first HDU extension into header1, and then closes the file\n",
        "\n",
        "with fits.open(filename) as hdulist: \n",
        "    header1 = hdulist[1].header\n",
        "  \n",
        "print(repr(header1[0:24])) #repr() prints the info into neat columns"
      ]
    },
    {
      "cell_type": "code",
      "execution_count": null,
      "metadata": {
        "colab": {
          "base_uri": "https://localhost:8080/",
          "height": 184
        },
        "id": "yIRsAXy9ewyw",
        "outputId": "9ea64250-0036-48eb-bea3-8e0c307389b1"
      },
      "outputs": [
        {
          "output_type": "execute_result",
          "data": {
            "text/plain": [
              "<Table length=4>\n",
              "       TIME           TIMECORR   CADENCENO ...   POS_CORR1     POS_CORR2  \n",
              "     float64          float32      int32   ...    float32       float32   \n",
              "------------------ ------------- --------- ... ------------- -------------\n",
              "120.52992386784899 0.00096672785      5501 ...  0.0002031729 -0.0025746305\n",
              "120.53060508973431 0.00096674974      5502 ... 0.00021144762 -0.0025837936\n",
              "120.53128621167707  0.0009667717      5503 ... 0.00021972114 -0.0025929555\n",
              "120.53196743356966 0.00096679357      5504 ... 0.00022799587 -0.0026021185"
            ],
            "text/html": [
              "<div><i>Table length=4</i>\n",
              "<table id=\"table139945975577488\" class=\"table-striped table-bordered table-condensed\">\n",
              "<thead><tr><th>TIME</th><th>TIMECORR</th><th>CADENCENO</th><th>SAP_FLUX</th><th>SAP_FLUX_ERR</th><th>SAP_BKG</th><th>SAP_BKG_ERR</th><th>PDCSAP_FLUX</th><th>PDCSAP_FLUX_ERR</th><th>SAP_QUALITY</th><th>PSF_CENTR1</th><th>PSF_CENTR1_ERR</th><th>PSF_CENTR2</th><th>PSF_CENTR2_ERR</th><th>MOM_CENTR1</th><th>MOM_CENTR1_ERR</th><th>MOM_CENTR2</th><th>MOM_CENTR2_ERR</th><th>POS_CORR1</th><th>POS_CORR2</th></tr></thead>\n",
              "<thead><tr><th>float64</th><th>float32</th><th>int32</th><th>float32</th><th>float32</th><th>float32</th><th>float32</th><th>float32</th><th>float32</th><th>int32</th><th>float64</th><th>float32</th><th>float64</th><th>float32</th><th>float64</th><th>float32</th><th>float64</th><th>float32</th><th>float32</th><th>float32</th></tr></thead>\n",
              "<tr><td>120.52992386784899</td><td>0.00096672785</td><td>5501</td><td>401288.16</td><td>91.51187</td><td>2598.1086</td><td>0.5752603</td><td>406100.9</td><td>127.528824</td><td>0</td><td>nan</td><td>nan</td><td>nan</td><td>nan</td><td>621.2181187542091</td><td>0.0002101067</td><td>848.8972881655714</td><td>0.00029125414</td><td>0.0002031729</td><td>-0.0025746305</td></tr>\n",
              "<tr><td>120.53060508973431</td><td>0.00096674974</td><td>5502</td><td>401425.53</td><td>91.53448</td><td>2598.0261</td><td>0.57525027</td><td>406242.22</td><td>125.212105</td><td>0</td><td>nan</td><td>nan</td><td>nan</td><td>nan</td><td>621.2190207168474</td><td>0.00021018942</td><td>848.8935790650855</td><td>0.0002912894</td><td>0.00021144762</td><td>-0.0025837936</td></tr>\n",
              "<tr><td>120.53128621167707</td><td>0.0009667717</td><td>5503</td><td>401172.0</td><td>91.517265</td><td>2597.9438</td><td>0.5752402</td><td>405984.03</td><td>123.31339</td><td>0</td><td>nan</td><td>nan</td><td>nan</td><td>nan</td><td>621.2179228162092</td><td>0.00021032244</td><td>848.894852260174</td><td>0.0002914222</td><td>0.00021972114</td><td>-0.0025929555</td></tr>\n",
              "<tr><td>120.53196743356966</td><td>0.00096679357</td><td>5504</td><td>401473.62</td><td>91.53064</td><td>2597.8613</td><td>0.5752302</td><td>406293.0</td><td>121.84987</td><td>0</td><td>nan</td><td>nan</td><td>nan</td><td>nan</td><td>621.2198263101714</td><td>0.00021020704</td><td>848.8961790332079</td><td>0.00029115527</td><td>0.00022799587</td><td>-0.0026021185</td></tr>\n",
              "</table></div>"
            ]
          },
          "metadata": {},
          "execution_count": 8
        }
      ],
      "source": [
        "# View a table of the data from the Binary Table extension. This is where we can find the flux and time columns to be plotted later.\n",
        "\n",
        "with fits.open(filename) as hdulist:\n",
        "    binaryext = hdulist[1].data\n",
        "\n",
        "binarytable = Table(binaryext)\n",
        "binarytable[1:5]"
      ]
    },
    {
      "cell_type": "code",
      "execution_count": null,
      "metadata": {
        "id": "8m0K_kbLe5fU"
      },
      "outputs": [],
      "source": [
        "# Convert the time to Barycentric Julian Days and read relevant LC data\n",
        "\n",
        "with fits.open(filename, mode=\"readonly\") as hdulist:\n",
        "    # Read in the \"BJDREF\" which is the time offset of the time array.\n",
        "    bjdrefi = hdulist[1].header['BJDREFI'] \n",
        "    bjdreff = hdulist[1].header['BJDREFF']\n",
        "\n",
        "    # Read in the columns of data.\n",
        "    times = hdulist[1].data['time'] \n",
        "    sap_fluxes = hdulist[1].data['SAP_FLUX']\n",
        "    pdcsap_fluxes = hdulist[1].data['PDCSAP_FLUX']"
      ]
    },
    {
      "cell_type": "code",
      "execution_count": null,
      "metadata": {
        "colab": {
          "base_uri": "https://localhost:8080/",
          "height": 295
        },
        "id": "DgETieoDe6it",
        "outputId": "4480374f-40dd-4137-f1a1-93bc7852c1a7"
      },
      "outputs": [
        {
          "output_type": "display_data",
          "data": {
            "text/plain": [
              "<Figure size 648x288 with 1 Axes>"
            ],
            "image/png": "[encoded data removed]"
          },
          "metadata": {
            "needs_background": "light"
          }
        }
      ],
      "source": [
        "# Convert the time array to full BJD by adding the offset back in.\n",
        "bjds = times + bjdrefi + bjdreff \n",
        "\n",
        "plt.figure(figsize=(9,4))\n",
        "\n",
        "# Plot the time, uncorrected and corrected fluxes.\n",
        "plt.plot(bjds, sap_fluxes, '-b', label='SAP Flux') \n",
        "plt.plot(bjds, pdcsap_fluxes, '-c', label='PDCSAP Flux') \n",
        "\n",
        "plt.title('Kepler Light Curve')\n",
        "plt.legend()\n",
        "plt.xlabel('Time (days)')\n",
        "plt.ylabel('Flux (electrons/second)')\n",
        "plt.savefig('sample_LCs.png')"
      ]
    },
    {
      "cell_type": "code",
      "execution_count": null,
      "metadata": {
        "id": "N3hZaSjsNEFS"
      },
      "outputs": [],
      "source": []
    }
  ],
  "metadata": {
    "colab": {
      "provenance": [],
      "authorship_tag": "ABX9TyNpAcMxwhunCcwH/Vc6T4pZ",
      "include_colab_link": true
    },
    "kernelspec": {
      "display_name": "Python 3",
      "name": "python3"
    },
    "language_info": {
      "name": "python"
    }
  },
  "nbformat": 4,
  "nbformat_minor": 0
}