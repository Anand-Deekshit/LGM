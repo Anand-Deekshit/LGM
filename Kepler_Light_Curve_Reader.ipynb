{
  "cells": [
    {
      "cell_type": "markdown",
      "metadata": {
        "id": "view-in-github",
        "colab_type": "text"
      },
      "source": [
        "<a href=\"https://colab.research.google.com/github/nicholasproietti/LGM/blob/branch1/Kepler_Light_Curve_Reader.ipynb\" target=\"_parent\"><img src=\"https://colab.research.google.com/assets/colab-badge.svg\" alt=\"Open In Colab\"/></a>"
      ]
    },
    {
      "cell_type": "code",
      "execution_count": 2,
      "metadata": {
        "id": "qbKXrKF-dwwB"
      },
      "outputs": [],
      "source": [
        "#%matplotlib notebook\n",
        "\n",
        "from astropy.io import fits\n",
        "from astropy.table import Table \n",
        "import matplotlib.pyplot as plt"
      ]
    },
    {
      "cell_type": "code",
      "source": [
        "!pip install astroquery"
      ],
      "metadata": {
        "colab": {
          "base_uri": "https://localhost:8080/"
        },
        "id": "VmYN7WkOz9LW",
        "outputId": "70f61297-783f-4615-acc9-64602b08c3fe"
      },
      "execution_count": 3,
      "outputs": [
        {
          "output_type": "stream",
          "name": "stdout",
          "text": [
            "Looking in indexes: https://pypi.org/simple, https://us-python.pkg.dev/colab-wheels/public/simple/\n",
            "Collecting astroquery\n",
            "  Downloading astroquery-0.4.6-py3-none-any.whl (4.5 MB)\n",
            "\u001b[K     |████████████████████████████████| 4.5 MB 8.4 MB/s \n",
            "\u001b[?25hRequirement already satisfied: html5lib>=0.999 in /usr/local/lib/python3.7/dist-packages (from astroquery) (1.0.1)\n",
            "Requirement already satisfied: beautifulsoup4>=4.3.2 in /usr/local/lib/python3.7/dist-packages (from astroquery) (4.6.3)\n",
            "Requirement already satisfied: numpy>=1.16 in /usr/local/lib/python3.7/dist-packages (from astroquery) (1.21.6)\n",
            "Requirement already satisfied: requests>=2.4.3 in /usr/local/lib/python3.7/dist-packages (from astroquery) (2.23.0)\n",
            "Requirement already satisfied: astropy>=4.0 in /usr/local/lib/python3.7/dist-packages (from astroquery) (4.3.1)\n",
            "Collecting keyring>=4.0\n",
            "  Downloading keyring-23.9.3-py3-none-any.whl (35 kB)\n",
            "Collecting pyvo>=1.1\n",
            "  Downloading pyvo-1.2.1-py3-none-any.whl (832 kB)\n",
            "\u001b[K     |████████████████████████████████| 832 kB 54.1 MB/s \n",
            "\u001b[?25hRequirement already satisfied: pyerfa>=1.7.3 in /usr/local/lib/python3.7/dist-packages (from astropy>=4.0->astroquery) (2.0.0.1)\n",
            "Requirement already satisfied: importlib-metadata in /usr/local/lib/python3.7/dist-packages (from astropy>=4.0->astroquery) (4.12.0)\n",
            "Requirement already satisfied: six>=1.9 in /usr/local/lib/python3.7/dist-packages (from html5lib>=0.999->astroquery) (1.15.0)\n",
            "Requirement already satisfied: webencodings in /usr/local/lib/python3.7/dist-packages (from html5lib>=0.999->astroquery) (0.5.1)\n",
            "Collecting jeepney>=0.4.2\n",
            "  Downloading jeepney-0.8.0-py3-none-any.whl (48 kB)\n",
            "\u001b[K     |████████████████████████████████| 48 kB 5.0 MB/s \n",
            "\u001b[?25hCollecting SecretStorage>=3.2\n",
            "  Downloading SecretStorage-3.3.3-py3-none-any.whl (15 kB)\n",
            "Collecting jaraco.classes\n",
            "  Downloading jaraco.classes-3.2.3-py3-none-any.whl (6.0 kB)\n",
            "Requirement already satisfied: typing-extensions>=3.6.4 in /usr/local/lib/python3.7/dist-packages (from importlib-metadata->astropy>=4.0->astroquery) (4.1.1)\n",
            "Requirement already satisfied: zipp>=0.5 in /usr/local/lib/python3.7/dist-packages (from importlib-metadata->astropy>=4.0->astroquery) (3.8.1)\n",
            "Requirement already satisfied: chardet<4,>=3.0.2 in /usr/local/lib/python3.7/dist-packages (from requests>=2.4.3->astroquery) (3.0.4)\n",
            "Requirement already satisfied: certifi>=2017.4.17 in /usr/local/lib/python3.7/dist-packages (from requests>=2.4.3->astroquery) (2022.6.15)\n",
            "Requirement already satisfied: urllib3!=1.25.0,!=1.25.1,<1.26,>=1.21.1 in /usr/local/lib/python3.7/dist-packages (from requests>=2.4.3->astroquery) (1.24.3)\n",
            "Requirement already satisfied: idna<3,>=2.5 in /usr/local/lib/python3.7/dist-packages (from requests>=2.4.3->astroquery) (2.10)\n",
            "Collecting cryptography>=2.0\n",
            "  Downloading cryptography-38.0.1-cp36-abi3-manylinux_2_24_x86_64.whl (4.0 MB)\n",
            "\u001b[K     |████████████████████████████████| 4.0 MB 44.6 MB/s \n",
            "\u001b[?25hRequirement already satisfied: cffi>=1.12 in /usr/local/lib/python3.7/dist-packages (from cryptography>=2.0->SecretStorage>=3.2->keyring>=4.0->astroquery) (1.15.1)\n",
            "Requirement already satisfied: pycparser in /usr/local/lib/python3.7/dist-packages (from cffi>=1.12->cryptography>=2.0->SecretStorage>=3.2->keyring>=4.0->astroquery) (2.21)\n",
            "Requirement already satisfied: more-itertools in /usr/local/lib/python3.7/dist-packages (from jaraco.classes->keyring>=4.0->astroquery) (8.14.0)\n",
            "Installing collected packages: jeepney, cryptography, SecretStorage, jaraco.classes, pyvo, keyring, astroquery\n",
            "Successfully installed SecretStorage-3.3.3 astroquery-0.4.6 cryptography-38.0.1 jaraco.classes-3.2.3 jeepney-0.8.0 keyring-23.9.3 pyvo-1.2.1\n"
          ]
        }
      ]
    },
    {
      "cell_type": "code",
      "execution_count": 4,
      "metadata": {
        "id": "vIWBMK-qd5Qi"
      },
      "outputs": [],
      "source": [
        "# Import libraries from astroquery\n",
        "\n",
        "from astroquery.mast import Mast\n",
        "from astroquery.mast import Observations"
      ]
    },
    {
      "cell_type": "code",
      "execution_count": 5,
      "metadata": {
        "colab": {
          "base_uri": "https://localhost:8080/",
          "height": 173
        },
        "id": "SD5-bJ7ieb0K",
        "outputId": "fe597cc6-897a-4d3d-cb0a-5ee226ee4e89"
      },
      "outputs": [
        {
          "output_type": "execute_result",
          "data": {
            "text/plain": [
              "<Table masked=True length=1>\n",
              "obsID  obs_collection dataproduct_type ... parent_obsid dataRights calib_level\n",
              " str6       str6           str10       ...     str6        str6       int64   \n",
              "------ -------------- ---------------- ... ------------ ---------- -----------\n",
              "601031         Kepler       timeseries ...       601031     PUBLIC           2"
            ],
            "text/html": [
              "<div><i>Table masked=True length=1</i>\n",
              "<table id=\"table139944890044304\" class=\"table-striped table-bordered table-condensed\">\n",
              "<thead><tr><th>obsID</th><th>obs_collection</th><th>dataproduct_type</th><th>obs_id</th><th>description</th><th>type</th><th>dataURI</th><th>productType</th><th>productGroupDescription</th><th>productSubGroupDescription</th><th>productDocumentationURL</th><th>project</th><th>prvversion</th><th>proposal_id</th><th>productFilename</th><th>size</th><th>parent_obsid</th><th>dataRights</th><th>calib_level</th></tr></thead>\n",
              "<thead><tr><th>str6</th><th>str6</th><th>str10</th><th>str36</th><th>str60</th><th>str1</th><th>str110</th><th>str7</th><th>str28</th><th>str8</th><th>str1</th><th>str6</th><th>str1</th><th>str7</th><th>str44</th><th>int64</th><th>str6</th><th>str6</th><th>int64</th></tr></thead>\n",
              "<tr><td>601031</td><td>Kepler</td><td>timeseries</td><td>kplr011446443_sc_Q113313330333033302</td><td>Lightcurve Short Cadence (CSC) - Q0</td><td>C</td><td>mast:KEPLER/url/missions/kepler/lightcurves/0114/011446443/kplr011446443-2009131110544_slc.fits</td><td>SCIENCE</td><td>Minimum Recommended Products</td><td>SLC</td><td>--</td><td>Kepler</td><td>--</td><td>EX_STKS</td><td>kplr011446443-2009131110544_slc.fits</td><td>1457280</td><td>601031</td><td>PUBLIC</td><td>2</td></tr>\n",
              "</table></div>"
            ]
          },
          "metadata": {},
          "execution_count": 5
        }
      ],
      "source": [
        "# Search MAST portal for data of a particular Kepler target\n",
        "\n",
        "keplerObs = Observations.query_criteria(target_name='kplr011446443', obs_collection='Kepler')\n",
        "keplerProds = Observations.get_product_list(keplerObs[1])\n",
        "yourProd = Observations.filter_products(keplerProds, extension='kplr011446443-2009131110544_slc.fits', \n",
        "                                        mrp_only=False)\n",
        "yourProd\n",
        "\n"
      ]
    },
    {
      "cell_type": "code",
      "execution_count": 6,
      "metadata": {
        "colab": {
          "base_uri": "https://localhost:8080/",
          "height": 138
        },
        "id": "WGrSOtPuekg5",
        "outputId": "d9a4c2c2-5069-436d-d121-186d86dc55b8"
      },
      "outputs": [
        {
          "output_type": "stream",
          "name": "stdout",
          "text": [
            "Downloading URL https://mast.stsci.edu/api/v0.1/Download/file?uri=mast:KEPLER/url/missions/kepler/lightcurves/0114/011446443/kplr011446443-2009131110544_slc.fits to ./mastDownload/Kepler/kplr011446443_sc_Q113313330333033302/kplr011446443-2009131110544_slc.fits ... [Done]\n"
          ]
        },
        {
          "output_type": "execute_result",
          "data": {
            "text/plain": [
              "<Table length=1>\n",
              "                                           Local Path                                           ...\n",
              "                                             str95                                              ...\n",
              "----------------------------------------------------------------------------------------------- ...\n",
              "./mastDownload/Kepler/kplr011446443_sc_Q113313330333033302/kplr011446443-2009131110544_slc.fits ..."
            ],
            "text/html": [
              "<div><i>Table length=1</i>\n",
              "<table id=\"table139945018466576\" class=\"table-striped table-bordered table-condensed\">\n",
              "<thead><tr><th>Local Path</th><th>Status</th><th>Message</th><th>URL</th></tr></thead>\n",
              "<thead><tr><th>str95</th><th>str8</th><th>object</th><th>object</th></tr></thead>\n",
              "<tr><td>./mastDownload/Kepler/kplr011446443_sc_Q113313330333033302/kplr011446443-2009131110544_slc.fits</td><td>COMPLETE</td><td>None</td><td>None</td></tr>\n",
              "</table></div>"
            ]
          },
          "metadata": {},
          "execution_count": 6
        }
      ],
      "source": [
        "# Download the data file\n",
        "\n",
        "Observations.download_products(yourProd, mrp_only = False, cache = False) "
      ]
    },
    {
      "cell_type": "code",
      "execution_count": 7,
      "metadata": {
        "colab": {
          "base_uri": "https://localhost:8080/"
        },
        "id": "BW9DE751el-I",
        "outputId": "36e442e1-eab7-47d7-8651-5c0a1e6b732d"
      },
      "outputs": [
        {
          "output_type": "stream",
          "name": "stdout",
          "text": [
            "Filename: ./mastDownload/Kepler/kplr011446443_sc_Q113313330333033302/kplr011446443-2009131110544_slc.fits\n",
            "No.    Name      Ver    Type      Cards   Dimensions   Format\n",
            "  0  PRIMARY       1 PrimaryHDU      58   ()      \n",
            "  1  LIGHTCURVE    1 BinTableHDU    155   14280R x 20C   [D, E, J, E, E, E, E, E, E, J, D, E, D, E, D, E, D, E, E, E]   \n",
            "  2  APERTURE      1 ImageHDU        48   (8, 9)   int32   \n"
          ]
        }
      ],
      "source": [
        "\n",
        "\n",
        "filename = \"./mastDownload/Kepler/kplr011446443_sc_Q113313330333033302/kplr011446443-2009131110544_slc.fits\"\n",
        "fits.info(filename)\n",
        "\n"
      ]
    },
    {
      "cell_type": "code",
      "execution_count": 8,
      "metadata": {
        "colab": {
          "base_uri": "https://localhost:8080/"
        },
        "id": "0cwAPeRcevhR",
        "outputId": "ca8d5005-64db-4671-8dff-5a15204d2f1d"
      },
      "outputs": [
        {
          "output_type": "stream",
          "name": "stdout",
          "text": [
            "XTENSION= 'BINTABLE'           / marks the beginning of a new HDU               \n",
            "BITPIX  =                    8 / array data type                                \n",
            "NAXIS   =                    2 / number of array dimensions                     \n",
            "NAXIS1  =                  100 / length of first array dimension                \n",
            "NAXIS2  =                14280 / length of second array dimension               \n",
            "PCOUNT  =                    0 / group parameter count (not used)               \n",
            "GCOUNT  =                    1 / group count (not used)                         \n",
            "TFIELDS =                   20 / number of table fields                         \n",
            "TTYPE1  = 'TIME    '           / column title: data time stamps                 \n",
            "TFORM1  = 'D       '           / column format: 64-bit floating point           \n",
            "TUNIT1  = 'BJD - 2454833'      / column units: barycenter corrected JD          \n",
            "TDISP1  = 'D14.7   '           / column display format                          \n",
            "TTYPE2  = 'TIMECORR'           / column title: barycenter - timeslice correction\n",
            "TFORM2  = 'E       '           / column format: 32-bit floating point           \n",
            "TUNIT2  = 'd       '           / column units: day                              \n",
            "TDISP2  = 'E13.6   '           / column display format                          \n",
            "TTYPE3  = 'CADENCENO'          / column title: unique cadence number            \n",
            "TFORM3  = 'J       '           / column format: signed 32-bit integer           \n",
            "TDISP3  = 'I10     '           / column display format                          \n",
            "TTYPE4  = 'SAP_FLUX'           / column title: aperture photometry flux         \n",
            "TFORM4  = 'E       '           / column format: 32-bit floating point           \n",
            "TUNIT4  = 'e-/s    '           / column units: electrons per second             \n",
            "TDISP4  = 'E14.7   '           / column display format                          \n",
            "TTYPE5  = 'SAP_FLUX_ERR'       / column title: aperture phot. flux error        \n"
          ]
        }
      ],
      "source": [
        "with fits.open(filename) as hdulist: \n",
        "    header1 = hdulist[1].header\n",
        "  \n",
        "print(repr(header1[0:24])) #repr() prints the info into neat columns"
      ]
    },
    {
      "cell_type": "code",
      "execution_count": 9,
      "metadata": {
        "colab": {
          "base_uri": "https://localhost:8080/",
          "height": 185
        },
        "id": "yIRsAXy9ewyw",
        "outputId": "eaf5b30b-d70c-467a-cb79-cbdd7d7e6360"
      },
      "outputs": [
        {
          "output_type": "execute_result",
          "data": {
            "text/plain": [
              "<Table length=4>\n",
              "       TIME           TIMECORR   CADENCENO ...   POS_CORR1     POS_CORR2  \n",
              "     float64          float32      int32   ...    float32       float32   \n",
              "------------------ ------------- --------- ... ------------- -------------\n",
              "120.52992386784899 0.00096672785      5501 ...  0.0002031729 -0.0025746305\n",
              "120.53060508973431 0.00096674974      5502 ... 0.00021144762 -0.0025837936\n",
              "120.53128621167707  0.0009667717      5503 ... 0.00021972114 -0.0025929555\n",
              "120.53196743356966 0.00096679357      5504 ... 0.00022799587 -0.0026021185"
            ],
            "text/html": [
              "<div><i>Table length=4</i>\n",
              "<table id=\"table139944885178448\" class=\"table-striped table-bordered table-condensed\">\n",
              "<thead><tr><th>TIME</th><th>TIMECORR</th><th>CADENCENO</th><th>SAP_FLUX</th><th>SAP_FLUX_ERR</th><th>SAP_BKG</th><th>SAP_BKG_ERR</th><th>PDCSAP_FLUX</th><th>PDCSAP_FLUX_ERR</th><th>SAP_QUALITY</th><th>PSF_CENTR1</th><th>PSF_CENTR1_ERR</th><th>PSF_CENTR2</th><th>PSF_CENTR2_ERR</th><th>MOM_CENTR1</th><th>MOM_CENTR1_ERR</th><th>MOM_CENTR2</th><th>MOM_CENTR2_ERR</th><th>POS_CORR1</th><th>POS_CORR2</th></tr></thead>\n",
              "<thead><tr><th>float64</th><th>float32</th><th>int32</th><th>float32</th><th>float32</th><th>float32</th><th>float32</th><th>float32</th><th>float32</th><th>int32</th><th>float64</th><th>float32</th><th>float64</th><th>float32</th><th>float64</th><th>float32</th><th>float64</th><th>float32</th><th>float32</th><th>float32</th></tr></thead>\n",
              "<tr><td>120.52992386784899</td><td>0.00096672785</td><td>5501</td><td>401288.16</td><td>91.51187</td><td>2598.1086</td><td>0.5752603</td><td>406100.9</td><td>127.528824</td><td>0</td><td>nan</td><td>nan</td><td>nan</td><td>nan</td><td>621.2181187542091</td><td>0.0002101067</td><td>848.8972881655714</td><td>0.00029125414</td><td>0.0002031729</td><td>-0.0025746305</td></tr>\n",
              "<tr><td>120.53060508973431</td><td>0.00096674974</td><td>5502</td><td>401425.53</td><td>91.53448</td><td>2598.0261</td><td>0.57525027</td><td>406242.22</td><td>125.212105</td><td>0</td><td>nan</td><td>nan</td><td>nan</td><td>nan</td><td>621.2190207168474</td><td>0.00021018942</td><td>848.8935790650855</td><td>0.0002912894</td><td>0.00021144762</td><td>-0.0025837936</td></tr>\n",
              "<tr><td>120.53128621167707</td><td>0.0009667717</td><td>5503</td><td>401172.0</td><td>91.517265</td><td>2597.9438</td><td>0.5752402</td><td>405984.03</td><td>123.31339</td><td>0</td><td>nan</td><td>nan</td><td>nan</td><td>nan</td><td>621.2179228162092</td><td>0.00021032244</td><td>848.894852260174</td><td>0.0002914222</td><td>0.00021972114</td><td>-0.0025929555</td></tr>\n",
              "<tr><td>120.53196743356966</td><td>0.00096679357</td><td>5504</td><td>401473.62</td><td>91.53064</td><td>2597.8613</td><td>0.5752302</td><td>406293.0</td><td>121.84987</td><td>0</td><td>nan</td><td>nan</td><td>nan</td><td>nan</td><td>621.2198263101714</td><td>0.00021020704</td><td>848.8961790332079</td><td>0.00029115527</td><td>0.00022799587</td><td>-0.0026021185</td></tr>\n",
              "</table></div>"
            ]
          },
          "metadata": {},
          "execution_count": 9
        }
      ],
      "source": [
        "with fits.open(filename) as hdulist:\n",
        "    binaryext = hdulist[1].data\n",
        "\n",
        "binarytable = Table(binaryext)\n",
        "binarytable[1:5]"
      ]
    },
    {
      "cell_type": "code",
      "execution_count": 10,
      "metadata": {
        "id": "8m0K_kbLe5fU"
      },
      "outputs": [],
      "source": [
        "with fits.open(filename, mode=\"readonly\") as hdulist:\n",
        "    # Read in the \"BJDREF\" which is the time offset of the time array.\n",
        "    bjdrefi = hdulist[1].header['BJDREFI'] \n",
        "    bjdreff = hdulist[1].header['BJDREFF']\n",
        "\n",
        "    # Read in the columns of data.\n",
        "    times = hdulist[1].data['time'] \n",
        "    sap_fluxes = hdulist[1].data['SAP_FLUX']\n",
        "    pdcsap_fluxes = hdulist[1].data['PDCSAP_FLUX']"
      ]
    },
    {
      "cell_type": "code",
      "execution_count": 11,
      "metadata": {
        "colab": {
          "base_uri": "https://localhost:8080/",
          "height": 295
        },
        "id": "DgETieoDe6it",
        "outputId": "e9397c94-122d-474a-b699-16dfca4287ab"
      },
      "outputs": [
        {
          "output_type": "display_data",
          "data": {
            "text/plain": [
              "<Figure size 648x288 with 1 Axes>"
            ],
            "image/png": "[encoded data removed]"
          },
          "metadata": {
            "needs_background": "light"
          }
        }
      ],
      "source": [
        "# Convert the time array to full BJD by adding the offset back in.\n",
        "bjds = times + bjdrefi + bjdreff \n",
        "\n",
        "plt.figure(figsize=(9,4))\n",
        "\n",
        "# Plot the time, uncorrected and corrected fluxes.\n",
        "plt.plot(bjds, sap_fluxes, '-k', label='SAP Flux') \n",
        "plt.plot(bjds, pdcsap_fluxes, '-b', label='PDCSAP Flux')\n",
        "\n",
        "plt.title('Kepler Light Curve')\n",
        "plt.legend()\n",
        "plt.xlabel('Time (days)')\n",
        "plt.ylabel('Flux (electrons/second)')\n",
        "plt.savefig('sample_LCs.png')"
      ]
    },
    {
      "cell_type": "code",
      "execution_count": 12,
      "metadata": {
        "colab": {
          "base_uri": "https://localhost:8080/"
        },
        "id": "Z3aof4Meggxk",
        "outputId": "a721aa17-7718-4770-9e3a-cd81a5cff265"
      },
      "outputs": [
        {
          "output_type": "stream",
          "name": "stdout",
          "text": [
            "[[1 1 1 1 1 1 1 0]\n",
            " [1 1 1 5 5 5 5 1]\n",
            " [1 1 5 5 7 7 5 5]\n",
            " [1 1 5 7 7 7 7 5]\n",
            " [1 1 5 7 7 7 7 5]\n",
            " [1 1 5 7 7 7 7 5]\n",
            " [1 1 5 7 7 7 5 5]\n",
            " [1 1 5 5 7 5 5 1]\n",
            " [1 1 1 5 5 5 1 0]]\n"
          ]
        }
      ],
      "source": [
        "\n",
        "\n",
        "with fits.open(filename) as hdulist: \n",
        "    imgdata = hdulist[2].data\n",
        "    \n",
        "print(imgdata)\n",
        "\n"
      ]
    },
    {
      "cell_type": "code",
      "execution_count": 13,
      "metadata": {
        "colab": {
          "base_uri": "https://localhost:8080/",
          "height": 295
        },
        "id": "Seyvk-qrgsWq",
        "outputId": "e036b03f-9b78-4a82-b6d4-aa8ec9a8db83"
      },
      "outputs": [
        {
          "output_type": "display_data",
          "data": {
            "text/plain": [
              "<Figure size 432x288 with 2 Axes>"
            ],
            "image/png": "[encoded data removed]"
          },
          "metadata": {
            "needs_background": "light"
          }
        }
      ],
      "source": [
        "plt.figure(2)\n",
        "plt.title('Kepler Aperture')\n",
        "plt.imshow(imgdata, cmap=plt.cm.YlGnBu_r)\n",
        "plt.xlabel('Column')\n",
        "plt.ylabel('Row')\n",
        "plt.colorbar()\n",
        "plt.savefig('aperture.png')"
      ]
    },
    {
      "cell_type": "code",
      "source": [
        "import pandas as pd\n",
        "import matplotlib.pyplot as plt\n",
        "KOI = pd.read_csv('KOI.csv')\n",
        "print(KOI.size)\n",
        "KOI.head()"
      ],
      "metadata": {
        "colab": {
          "base_uri": "https://localhost:8080/",
          "height": 317
        },
        "id": "lq0kPuE3JeDc",
        "outputId": "5d4d663b-6aba-4233-a885-e3d626fb458c"
      },
      "execution_count": 16,
      "outputs": [
        {
          "output_type": "stream",
          "name": "stdout",
          "text": [
            "793812\n"
          ]
        },
        {
          "output_type": "execute_result",
          "data": {
            "text/plain": [
              "   rowid     kepid kepoi_name   kepler_name koi_disposition koi_vet_stat  \\\n",
              "0      1  10797460  K00752.01  Kepler-227 b       CONFIRMED         Done   \n",
              "1      2  10797460  K00752.02  Kepler-227 c       CONFIRMED         Done   \n",
              "2      3  10811496  K00753.01           NaN       CANDIDATE         Done   \n",
              "3      4  10848459  K00754.01           NaN  FALSE POSITIVE         Done   \n",
              "4      5  10854555  K00755.01  Kepler-664 b       CONFIRMED         Done   \n",
              "\n",
              "  koi_vet_date koi_pdisposition  koi_score  koi_fpflag_nt  ...  koi_fwm_srao  \\\n",
              "0   2018-08-16        CANDIDATE      1.000              0  ...         0.430   \n",
              "1   2018-08-16        CANDIDATE      0.969              0  ...        -0.630   \n",
              "2   2018-08-16        CANDIDATE      0.000              0  ...        -0.021   \n",
              "3   2018-08-16   FALSE POSITIVE      0.000              0  ...        -0.111   \n",
              "4   2018-08-16        CANDIDATE      1.000              0  ...        -0.010   \n",
              "\n",
              "   koi_fwm_sdeco  koi_fwm_prao koi_fwm_pdeco koi_dicco_mra  koi_dicco_mdec  \\\n",
              "0          0.940      -0.00020      -0.00055        -0.010           0.200   \n",
              "1          1.230       0.00066      -0.00105         0.390           0.000   \n",
              "2         -0.038       0.00070       0.00060        -0.025          -0.034   \n",
              "3          0.002       0.00302      -0.00142        -0.249           0.147   \n",
              "4          0.230       0.00008      -0.00007         0.030          -0.090   \n",
              "\n",
              "   koi_dicco_msky  koi_dikco_mra  koi_dikco_mdec  koi_dikco_msky  \n",
              "0           0.200          0.080           0.310           0.320  \n",
              "1           0.390          0.490           0.120           0.500  \n",
              "2           0.042          0.002          -0.027           0.027  \n",
              "3           0.289         -0.257           0.099           0.276  \n",
              "4           0.100          0.070           0.020           0.070  \n",
              "\n",
              "[5 rows x 83 columns]"
            ],
            "text/html": [
              "\n",
              "  <div id=\"df-f983ec4e-f616-4899-a84f-52c2ad499cef\">\n",
              "    <div class=\"colab-df-container\">\n",
              "      <div>\n",
              "<style scoped>\n",
              "    .dataframe tbody tr th:only-of-type {\n",
              "        vertical-align: middle;\n",
              "    }\n",
              "\n",
              "    .dataframe tbody tr th {\n",
              "        vertical-align: top;\n",
              "    }\n",
              "\n",
              "    .dataframe thead th {\n",
              "        text-align: right;\n",
              "    }\n",
              "</style>\n",
              "<table border=\"1\" class=\"dataframe\">\n",
              "  <thead>\n",
              "    <tr style=\"text-align: right;\">\n",
              "      <th></th>\n",
              "      <th>rowid</th>\n",
              "      <th>kepid</th>\n",
              "      <th>kepoi_name</th>\n",
              "      <th>kepler_name</th>\n",
              "      <th>koi_disposition</th>\n",
              "      <th>koi_vet_stat</th>\n",
              "      <th>koi_vet_date</th>\n",
              "      <th>koi_pdisposition</th>\n",
              "      <th>koi_score</th>\n",
              "      <th>koi_fpflag_nt</th>\n",
              "      <th>...</th>\n",
              "      <th>koi_fwm_srao</th>\n",
              "      <th>koi_fwm_sdeco</th>\n",
              "      <th>koi_fwm_prao</th>\n",
              "      <th>koi_fwm_pdeco</th>\n",
              "      <th>koi_dicco_mra</th>\n",
              "      <th>koi_dicco_mdec</th>\n",
              "      <th>koi_dicco_msky</th>\n",
              "      <th>koi_dikco_mra</th>\n",
              "      <th>koi_dikco_mdec</th>\n",
              "      <th>koi_dikco_msky</th>\n",
              "    </tr>\n",
              "  </thead>\n",
              "  <tbody>\n",
              "    <tr>\n",
              "      <th>0</th>\n",
              "      <td>1</td>\n",
              "      <td>10797460</td>\n",
              "      <td>K00752.01</td>\n",
              "      <td>Kepler-227 b</td>\n",
              "      <td>CONFIRMED</td>\n",
              "      <td>Done</td>\n",
              "      <td>2018-08-16</td>\n",
              "      <td>CANDIDATE</td>\n",
              "      <td>1.000</td>\n",
              "      <td>0</td>\n",
              "      <td>...</td>\n",
              "      <td>0.430</td>\n",
              "      <td>0.940</td>\n",
              "      <td>-0.00020</td>\n",
              "      <td>-0.00055</td>\n",
              "      <td>-0.010</td>\n",
              "      <td>0.200</td>\n",
              "      <td>0.200</td>\n",
              "      <td>0.080</td>\n",
              "      <td>0.310</td>\n",
              "      <td>0.320</td>\n",
              "    </tr>\n",
              "    <tr>\n",
              "      <th>1</th>\n",
              "      <td>2</td>\n",
              "      <td>10797460</td>\n",
              "      <td>K00752.02</td>\n",
              "      <td>Kepler-227 c</td>\n",
              "      <td>CONFIRMED</td>\n",
              "      <td>Done</td>\n",
              "      <td>2018-08-16</td>\n",
              "      <td>CANDIDATE</td>\n",
              "      <td>0.969</td>\n",
              "      <td>0</td>\n",
              "      <td>...</td>\n",
              "      <td>-0.630</td>\n",
              "      <td>1.230</td>\n",
              "      <td>0.00066</td>\n",
              "      <td>-0.00105</td>\n",
              "      <td>0.390</td>\n",
              "      <td>0.000</td>\n",
              "      <td>0.390</td>\n",
              "      <td>0.490</td>\n",
              "      <td>0.120</td>\n",
              "      <td>0.500</td>\n",
              "    </tr>\n",
              "    <tr>\n",
              "      <th>2</th>\n",
              "      <td>3</td>\n",
              "      <td>10811496</td>\n",
              "      <td>K00753.01</td>\n",
              "      <td>NaN</td>\n",
              "      <td>CANDIDATE</td>\n",
              "      <td>Done</td>\n",
              "      <td>2018-08-16</td>\n",
              "      <td>CANDIDATE</td>\n",
              "      <td>0.000</td>\n",
              "      <td>0</td>\n",
              "      <td>...</td>\n",
              "      <td>-0.021</td>\n",
              "      <td>-0.038</td>\n",
              "      <td>0.00070</td>\n",
              "      <td>0.00060</td>\n",
              "      <td>-0.025</td>\n",
              "      <td>-0.034</td>\n",
              "      <td>0.042</td>\n",
              "      <td>0.002</td>\n",
              "      <td>-0.027</td>\n",
              "      <td>0.027</td>\n",
              "    </tr>\n",
              "    <tr>\n",
              "      <th>3</th>\n",
              "      <td>4</td>\n",
              "      <td>10848459</td>\n",
              "      <td>K00754.01</td>\n",
              "      <td>NaN</td>\n",
              "      <td>FALSE POSITIVE</td>\n",
              "      <td>Done</td>\n",
              "      <td>2018-08-16</td>\n",
              "      <td>FALSE POSITIVE</td>\n",
              "      <td>0.000</td>\n",
              "      <td>0</td>\n",
              "      <td>...</td>\n",
              "      <td>-0.111</td>\n",
              "      <td>0.002</td>\n",
              "      <td>0.00302</td>\n",
              "      <td>-0.00142</td>\n",
              "      <td>-0.249</td>\n",
              "      <td>0.147</td>\n",
              "      <td>0.289</td>\n",
              "      <td>-0.257</td>\n",
              "      <td>0.099</td>\n",
              "      <td>0.276</td>\n",
              "    </tr>\n",
              "    <tr>\n",
              "      <th>4</th>\n",
              "      <td>5</td>\n",
              "      <td>10854555</td>\n",
              "      <td>K00755.01</td>\n",
              "      <td>Kepler-664 b</td>\n",
              "      <td>CONFIRMED</td>\n",
              "      <td>Done</td>\n",
              "      <td>2018-08-16</td>\n",
              "      <td>CANDIDATE</td>\n",
              "      <td>1.000</td>\n",
              "      <td>0</td>\n",
              "      <td>...</td>\n",
              "      <td>-0.010</td>\n",
              "      <td>0.230</td>\n",
              "      <td>0.00008</td>\n",
              "      <td>-0.00007</td>\n",
              "      <td>0.030</td>\n",
              "      <td>-0.090</td>\n",
              "      <td>0.100</td>\n",
              "      <td>0.070</td>\n",
              "      <td>0.020</td>\n",
              "      <td>0.070</td>\n",
              "    </tr>\n",
              "  </tbody>\n",
              "</table>\n",
              "<p>5 rows × 83 columns</p>\n",
              "</div>\n",
              "      <button class=\"colab-df-convert\" onclick=\"convertToInteractive('df-f983ec4e-f616-4899-a84f-52c2ad499cef')\"\n",
              "              title=\"Convert this dataframe to an interactive table.\"\n",
              "              style=\"display:none;\">\n",
              "        \n",
              "  <svg xmlns=\"http://www.w3.org/2000/svg\" height=\"24px\"viewBox=\"0 0 24 24\"\n",
              "       width=\"24px\">\n",
              "    <path d=\"M0 0h24v24H0V0z\" fill=\"none\"/>\n",
              "    <path d=\"M18.56 5.44l.94 2.06.94-2.06 2.06-.94-2.06-.94-.94-2.06-.94 2.06-2.06.94zm-11 1L8.5 8.5l.94-2.06 2.06-.94-2.06-.94L8.5 2.5l-.94 2.06-2.06.94zm10 10l.94 2.06.94-2.06 2.06-.94-2.06-.94-.94-2.06-.94 2.06-2.06.94z\"/><path d=\"M17.41 7.96l-1.37-1.37c-.4-.4-.92-.59-1.43-.59-.52 0-1.04.2-1.43.59L10.3 9.45l-7.72 7.72c-.78.78-.78 2.05 0 2.83L4 21.41c.39.39.9.59 1.41.59.51 0 1.02-.2 1.41-.59l7.78-7.78 2.81-2.81c.8-.78.8-2.07 0-2.86zM5.41 20L4 18.59l7.72-7.72 1.47 1.35L5.41 20z\"/>\n",
              "  </svg>\n",
              "      </button>\n",
              "      \n",
              "  <style>\n",
              "    .colab-df-container {\n",
              "      display:flex;\n",
              "      flex-wrap:wrap;\n",
              "      gap: 12px;\n",
              "    }\n",
              "\n",
              "    .colab-df-convert {\n",
              "      background-color: #E8F0FE;\n",
              "      border: none;\n",
              "      border-radius: 50%;\n",
              "      cursor: pointer;\n",
              "      display: none;\n",
              "      fill: #1967D2;\n",
              "      height: 32px;\n",
              "      padding: 0 0 0 0;\n",
              "      width: 32px;\n",
              "    }\n",
              "\n",
              "    .colab-df-convert:hover {\n",
              "      background-color: #E2EBFA;\n",
              "      box-shadow: 0px 1px 2px rgba(60, 64, 67, 0.3), 0px 1px 3px 1px rgba(60, 64, 67, 0.15);\n",
              "      fill: #174EA6;\n",
              "    }\n",
              "\n",
              "    [theme=dark] .colab-df-convert {\n",
              "      background-color: #3B4455;\n",
              "      fill: #D2E3FC;\n",
              "    }\n",
              "\n",
              "    [theme=dark] .colab-df-convert:hover {\n",
              "      background-color: #434B5C;\n",
              "      box-shadow: 0px 1px 3px 1px rgba(0, 0, 0, 0.15);\n",
              "      filter: drop-shadow(0px 1px 2px rgba(0, 0, 0, 0.3));\n",
              "      fill: #FFFFFF;\n",
              "    }\n",
              "  </style>\n",
              "\n",
              "      <script>\n",
              "        const buttonEl =\n",
              "          document.querySelector('#df-f983ec4e-f616-4899-a84f-52c2ad499cef button.colab-df-convert');\n",
              "        buttonEl.style.display =\n",
              "          google.colab.kernel.accessAllowed ? 'block' : 'none';\n",
              "\n",
              "        async function convertToInteractive(key) {\n",
              "          const element = document.querySelector('#df-f983ec4e-f616-4899-a84f-52c2ad499cef');\n",
              "          const dataTable =\n",
              "            await google.colab.kernel.invokeFunction('convertToInteractive',\n",
              "                                                     [key], {});\n",
              "          if (!dataTable) return;\n",
              "\n",
              "          const docLinkHtml = 'Like what you see? Visit the ' +\n",
              "            '<a target=\"_blank\" href=https://colab.research.google.com/notebooks/data_table.ipynb>data table notebook</a>'\n",
              "            + ' to learn more about interactive tables.';\n",
              "          element.innerHTML = '';\n",
              "          dataTable['output_type'] = 'display_data';\n",
              "          await google.colab.output.renderOutput(dataTable, element);\n",
              "          const docLink = document.createElement('div');\n",
              "          docLink.innerHTML = docLinkHtml;\n",
              "          element.appendChild(docLink);\n",
              "        }\n",
              "      </script>\n",
              "    </div>\n",
              "  </div>\n",
              "  "
            ]
          },
          "metadata": {},
          "execution_count": 16
        }
      ]
    },
    {
      "cell_type": "code",
      "source": [
        "KOI_disposition_values = list(set(KOI['koi_disposition']))\n",
        "KOI_disposition_values"
      ],
      "metadata": {
        "colab": {
          "base_uri": "https://localhost:8080/"
        },
        "id": "xrgqsg_7VrUV",
        "outputId": "f502aad6-c4b2-42bc-bd04-c73cad6f8128"
      },
      "execution_count": 17,
      "outputs": [
        {
          "output_type": "execute_result",
          "data": {
            "text/plain": [
              "['CONFIRMED', 'FALSE POSITIVE', 'CANDIDATE']"
            ]
          },
          "metadata": {},
          "execution_count": 17
        }
      ]
    },
    {
      "cell_type": "code",
      "source": [
        "confirmed_number = KOI[KOI['koi_disposition'] == 'CONFIRMED'].size\n",
        "confirmed_number"
      ],
      "metadata": {
        "colab": {
          "base_uri": "https://localhost:8080/"
        },
        "id": "JBCSu3y2WMC_",
        "outputId": "3fd5fa67-5eca-40bb-881a-ef36ef4cd145"
      },
      "execution_count": 18,
      "outputs": [
        {
          "output_type": "execute_result",
          "data": {
            "text/plain": [
              "221527"
            ]
          },
          "metadata": {},
          "execution_count": 18
        }
      ]
    },
    {
      "cell_type": "code",
      "source": [
        "candidate_number = KOI[KOI['koi_disposition'] == 'CANDIDATE'].size\n",
        "candidate_number"
      ],
      "metadata": {
        "colab": {
          "base_uri": "https://localhost:8080/"
        },
        "id": "ydDs_vjaW3Cf",
        "outputId": "f090c64a-52e1-4dd5-e73a-144c9215d0c3"
      },
      "execution_count": 19,
      "outputs": [
        {
          "output_type": "execute_result",
          "data": {
            "text/plain": [
              "170648"
            ]
          },
          "metadata": {},
          "execution_count": 19
        }
      ]
    },
    {
      "cell_type": "code",
      "source": [
        "false_positive_number = KOI[KOI['koi_disposition'] == 'FALSE POSITIVE'].size\n",
        "false_positive_number"
      ],
      "metadata": {
        "colab": {
          "base_uri": "https://localhost:8080/"
        },
        "id": "xbmFJ624W_qy",
        "outputId": "5907ef51-e129-4fac-c6bb-b59b9c605c59"
      },
      "execution_count": 20,
      "outputs": [
        {
          "output_type": "execute_result",
          "data": {
            "text/plain": [
              "401637"
            ]
          },
          "metadata": {},
          "execution_count": 20
        }
      ]
    },
    {
      "cell_type": "code",
      "source": [
        "KOI_disposition_counts = [confirmed_number, candidate_number, false_positive_number]"
      ],
      "metadata": {
        "id": "_GR3Vo0NXSLs"
      },
      "execution_count": 21,
      "outputs": []
    },
    {
      "cell_type": "code",
      "source": [
        "plt.bar(KOI_disposition_values, KOI_disposition_counts)"
      ],
      "metadata": {
        "colab": {
          "base_uri": "https://localhost:8080/",
          "height": 283
        },
        "id": "RDbNDk-GXmCm",
        "outputId": "5f4a4003-5904-4a9d-baba-cef2cf49d0e1"
      },
      "execution_count": 22,
      "outputs": [
        {
          "output_type": "execute_result",
          "data": {
            "text/plain": [
              "<BarContainer object of 3 artists>"
            ]
          },
          "metadata": {},
          "execution_count": 22
        },
        {
          "output_type": "display_data",
          "data": {
            "text/plain": [
              "<Figure size 432x288 with 1 Axes>"
            ],
            "image/png": "[encoded data removed]"
          },
          "metadata": {
            "needs_background": "light"
          }
        }
      ]
    },
    {
      "cell_type": "code",
      "source": [
        "# Too many false positives, better to drop them to avoid any problems during training our model"
      ],
      "metadata": {
        "id": "rabwqgngY3eb"
      },
      "execution_count": 23,
      "outputs": []
    },
    {
      "cell_type": "code",
      "source": [
        "KOI = KOI[KOI['koi_disposition'] != 'FALSE POSITIVE']\n",
        "KOI.head()"
      ],
      "metadata": {
        "colab": {
          "base_uri": "https://localhost:8080/",
          "height": 300
        },
        "id": "UKMEv0JtY8eM",
        "outputId": "237612b3-faaa-4661-c05b-18725246de63"
      },
      "execution_count": 24,
      "outputs": [
        {
          "output_type": "execute_result",
          "data": {
            "text/plain": [
              "   rowid     kepid kepoi_name   kepler_name koi_disposition koi_vet_stat  \\\n",
              "0      1  10797460  K00752.01  Kepler-227 b       CONFIRMED         Done   \n",
              "1      2  10797460  K00752.02  Kepler-227 c       CONFIRMED         Done   \n",
              "2      3  10811496  K00753.01           NaN       CANDIDATE         Done   \n",
              "4      5  10854555  K00755.01  Kepler-664 b       CONFIRMED         Done   \n",
              "5      6  10872983  K00756.01  Kepler-228 d       CONFIRMED         Done   \n",
              "\n",
              "  koi_vet_date koi_pdisposition  koi_score  koi_fpflag_nt  ...  koi_fwm_srao  \\\n",
              "0   2018-08-16        CANDIDATE      1.000              0  ...         0.430   \n",
              "1   2018-08-16        CANDIDATE      0.969              0  ...        -0.630   \n",
              "2   2018-08-16        CANDIDATE      0.000              0  ...        -0.021   \n",
              "4   2018-08-16        CANDIDATE      1.000              0  ...        -0.010   \n",
              "5   2018-08-16        CANDIDATE      1.000              0  ...        -0.120   \n",
              "\n",
              "   koi_fwm_sdeco  koi_fwm_prao koi_fwm_pdeco koi_dicco_mra  koi_dicco_mdec  \\\n",
              "0          0.940      -0.00020      -0.00055        -0.010           0.200   \n",
              "1          1.230       0.00066      -0.00105         0.390           0.000   \n",
              "2         -0.038       0.00070       0.00060        -0.025          -0.034   \n",
              "4          0.230       0.00008      -0.00007         0.030          -0.090   \n",
              "5          0.140       0.00004           NaN         0.040          -0.070   \n",
              "\n",
              "   koi_dicco_msky  koi_dikco_mra  koi_dikco_mdec  koi_dikco_msky  \n",
              "0           0.200          0.080           0.310           0.320  \n",
              "1           0.390          0.490           0.120           0.500  \n",
              "2           0.042          0.002          -0.027           0.027  \n",
              "4           0.100          0.070           0.020           0.070  \n",
              "5           0.080         -0.020          -0.080           0.080  \n",
              "\n",
              "[5 rows x 83 columns]"
            ],
            "text/html": [
              "\n",
              "  <div id=\"df-152062c2-5acc-46b6-9927-8619f91cbf10\">\n",
              "    <div class=\"colab-df-container\">\n",
              "      <div>\n",
              "<style scoped>\n",
              "    .dataframe tbody tr th:only-of-type {\n",
              "        vertical-align: middle;\n",
              "    }\n",
              "\n",
              "    .dataframe tbody tr th {\n",
              "        vertical-align: top;\n",
              "    }\n",
              "\n",
              "    .dataframe thead th {\n",
              "        text-align: right;\n",
              "    }\n",
              "</style>\n",
              "<table border=\"1\" class=\"dataframe\">\n",
              "  <thead>\n",
              "    <tr style=\"text-align: right;\">\n",
              "      <th></th>\n",
              "      <th>rowid</th>\n",
              "      <th>kepid</th>\n",
              "      <th>kepoi_name</th>\n",
              "      <th>kepler_name</th>\n",
              "      <th>koi_disposition</th>\n",
              "      <th>koi_vet_stat</th>\n",
              "      <th>koi_vet_date</th>\n",
              "      <th>koi_pdisposition</th>\n",
              "      <th>koi_score</th>\n",
              "      <th>koi_fpflag_nt</th>\n",
              "      <th>...</th>\n",
              "      <th>koi_fwm_srao</th>\n",
              "      <th>koi_fwm_sdeco</th>\n",
              "      <th>koi_fwm_prao</th>\n",
              "      <th>koi_fwm_pdeco</th>\n",
              "      <th>koi_dicco_mra</th>\n",
              "      <th>koi_dicco_mdec</th>\n",
              "      <th>koi_dicco_msky</th>\n",
              "      <th>koi_dikco_mra</th>\n",
              "      <th>koi_dikco_mdec</th>\n",
              "      <th>koi_dikco_msky</th>\n",
              "    </tr>\n",
              "  </thead>\n",
              "  <tbody>\n",
              "    <tr>\n",
              "      <th>0</th>\n",
              "      <td>1</td>\n",
              "      <td>10797460</td>\n",
              "      <td>K00752.01</td>\n",
              "      <td>Kepler-227 b</td>\n",
              "      <td>CONFIRMED</td>\n",
              "      <td>Done</td>\n",
              "      <td>2018-08-16</td>\n",
              "      <td>CANDIDATE</td>\n",
              "      <td>1.000</td>\n",
              "      <td>0</td>\n",
              "      <td>...</td>\n",
              "      <td>0.430</td>\n",
              "      <td>0.940</td>\n",
              "      <td>-0.00020</td>\n",
              "      <td>-0.00055</td>\n",
              "      <td>-0.010</td>\n",
              "      <td>0.200</td>\n",
              "      <td>0.200</td>\n",
              "      <td>0.080</td>\n",
              "      <td>0.310</td>\n",
              "      <td>0.320</td>\n",
              "    </tr>\n",
              "    <tr>\n",
              "      <th>1</th>\n",
              "      <td>2</td>\n",
              "      <td>10797460</td>\n",
              "      <td>K00752.02</td>\n",
              "      <td>Kepler-227 c</td>\n",
              "      <td>CONFIRMED</td>\n",
              "      <td>Done</td>\n",
              "      <td>2018-08-16</td>\n",
              "      <td>CANDIDATE</td>\n",
              "      <td>0.969</td>\n",
              "      <td>0</td>\n",
              "      <td>...</td>\n",
              "      <td>-0.630</td>\n",
              "      <td>1.230</td>\n",
              "      <td>0.00066</td>\n",
              "      <td>-0.00105</td>\n",
              "      <td>0.390</td>\n",
              "      <td>0.000</td>\n",
              "      <td>0.390</td>\n",
              "      <td>0.490</td>\n",
              "      <td>0.120</td>\n",
              "      <td>0.500</td>\n",
              "    </tr>\n",
              "    <tr>\n",
              "      <th>2</th>\n",
              "      <td>3</td>\n",
              "      <td>10811496</td>\n",
              "      <td>K00753.01</td>\n",
              "      <td>NaN</td>\n",
              "      <td>CANDIDATE</td>\n",
              "      <td>Done</td>\n",
              "      <td>2018-08-16</td>\n",
              "      <td>CANDIDATE</td>\n",
              "      <td>0.000</td>\n",
              "      <td>0</td>\n",
              "      <td>...</td>\n",
              "      <td>-0.021</td>\n",
              "      <td>-0.038</td>\n",
              "      <td>0.00070</td>\n",
              "      <td>0.00060</td>\n",
              "      <td>-0.025</td>\n",
              "      <td>-0.034</td>\n",
              "      <td>0.042</td>\n",
              "      <td>0.002</td>\n",
              "      <td>-0.027</td>\n",
              "      <td>0.027</td>\n",
              "    </tr>\n",
              "    <tr>\n",
              "      <th>4</th>\n",
              "      <td>5</td>\n",
              "      <td>10854555</td>\n",
              "      <td>K00755.01</td>\n",
              "      <td>Kepler-664 b</td>\n",
              "      <td>CONFIRMED</td>\n",
              "      <td>Done</td>\n",
              "      <td>2018-08-16</td>\n",
              "      <td>CANDIDATE</td>\n",
              "      <td>1.000</td>\n",
              "      <td>0</td>\n",
              "      <td>...</td>\n",
              "      <td>-0.010</td>\n",
              "      <td>0.230</td>\n",
              "      <td>0.00008</td>\n",
              "      <td>-0.00007</td>\n",
              "      <td>0.030</td>\n",
              "      <td>-0.090</td>\n",
              "      <td>0.100</td>\n",
              "      <td>0.070</td>\n",
              "      <td>0.020</td>\n",
              "      <td>0.070</td>\n",
              "    </tr>\n",
              "    <tr>\n",
              "      <th>5</th>\n",
              "      <td>6</td>\n",
              "      <td>10872983</td>\n",
              "      <td>K00756.01</td>\n",
              "      <td>Kepler-228 d</td>\n",
              "      <td>CONFIRMED</td>\n",
              "      <td>Done</td>\n",
              "      <td>2018-08-16</td>\n",
              "      <td>CANDIDATE</td>\n",
              "      <td>1.000</td>\n",
              "      <td>0</td>\n",
              "      <td>...</td>\n",
              "      <td>-0.120</td>\n",
              "      <td>0.140</td>\n",
              "      <td>0.00004</td>\n",
              "      <td>NaN</td>\n",
              "      <td>0.040</td>\n",
              "      <td>-0.070</td>\n",
              "      <td>0.080</td>\n",
              "      <td>-0.020</td>\n",
              "      <td>-0.080</td>\n",
              "      <td>0.080</td>\n",
              "    </tr>\n",
              "  </tbody>\n",
              "</table>\n",
              "<p>5 rows × 83 columns</p>\n",
              "</div>\n",
              "      <button class=\"colab-df-convert\" onclick=\"convertToInteractive('df-152062c2-5acc-46b6-9927-8619f91cbf10')\"\n",
              "              title=\"Convert this dataframe to an interactive table.\"\n",
              "              style=\"display:none;\">\n",
              "        \n",
              "  <svg xmlns=\"http://www.w3.org/2000/svg\" height=\"24px\"viewBox=\"0 0 24 24\"\n",
              "       width=\"24px\">\n",
              "    <path d=\"M0 0h24v24H0V0z\" fill=\"none\"/>\n",
              "    <path d=\"M18.56 5.44l.94 2.06.94-2.06 2.06-.94-2.06-.94-.94-2.06-.94 2.06-2.06.94zm-11 1L8.5 8.5l.94-2.06 2.06-.94-2.06-.94L8.5 2.5l-.94 2.06-2.06.94zm10 10l.94 2.06.94-2.06 2.06-.94-2.06-.94-.94-2.06-.94 2.06-2.06.94z\"/><path d=\"M17.41 7.96l-1.37-1.37c-.4-.4-.92-.59-1.43-.59-.52 0-1.04.2-1.43.59L10.3 9.45l-7.72 7.72c-.78.78-.78 2.05 0 2.83L4 21.41c.39.39.9.59 1.41.59.51 0 1.02-.2 1.41-.59l7.78-7.78 2.81-2.81c.8-.78.8-2.07 0-2.86zM5.41 20L4 18.59l7.72-7.72 1.47 1.35L5.41 20z\"/>\n",
              "  </svg>\n",
              "      </button>\n",
              "      \n",
              "  <style>\n",
              "    .colab-df-container {\n",
              "      display:flex;\n",
              "      flex-wrap:wrap;\n",
              "      gap: 12px;\n",
              "    }\n",
              "\n",
              "    .colab-df-convert {\n",
              "      background-color: #E8F0FE;\n",
              "      border: none;\n",
              "      border-radius: 50%;\n",
              "      cursor: pointer;\n",
              "      display: none;\n",
              "      fill: #1967D2;\n",
              "      height: 32px;\n",
              "      padding: 0 0 0 0;\n",
              "      width: 32px;\n",
              "    }\n",
              "\n",
              "    .colab-df-convert:hover {\n",
              "      background-color: #E2EBFA;\n",
              "      box-shadow: 0px 1px 2px rgba(60, 64, 67, 0.3), 0px 1px 3px 1px rgba(60, 64, 67, 0.15);\n",
              "      fill: #174EA6;\n",
              "    }\n",
              "\n",
              "    [theme=dark] .colab-df-convert {\n",
              "      background-color: #3B4455;\n",
              "      fill: #D2E3FC;\n",
              "    }\n",
              "\n",
              "    [theme=dark] .colab-df-convert:hover {\n",
              "      background-color: #434B5C;\n",
              "      box-shadow: 0px 1px 3px 1px rgba(0, 0, 0, 0.15);\n",
              "      filter: drop-shadow(0px 1px 2px rgba(0, 0, 0, 0.3));\n",
              "      fill: #FFFFFF;\n",
              "    }\n",
              "  </style>\n",
              "\n",
              "      <script>\n",
              "        const buttonEl =\n",
              "          document.querySelector('#df-152062c2-5acc-46b6-9927-8619f91cbf10 button.colab-df-convert');\n",
              "        buttonEl.style.display =\n",
              "          google.colab.kernel.accessAllowed ? 'block' : 'none';\n",
              "\n",
              "        async function convertToInteractive(key) {\n",
              "          const element = document.querySelector('#df-152062c2-5acc-46b6-9927-8619f91cbf10');\n",
              "          const dataTable =\n",
              "            await google.colab.kernel.invokeFunction('convertToInteractive',\n",
              "                                                     [key], {});\n",
              "          if (!dataTable) return;\n",
              "\n",
              "          const docLinkHtml = 'Like what you see? Visit the ' +\n",
              "            '<a target=\"_blank\" href=https://colab.research.google.com/notebooks/data_table.ipynb>data table notebook</a>'\n",
              "            + ' to learn more about interactive tables.';\n",
              "          element.innerHTML = '';\n",
              "          dataTable['output_type'] = 'display_data';\n",
              "          await google.colab.output.renderOutput(dataTable, element);\n",
              "          const docLink = document.createElement('div');\n",
              "          docLink.innerHTML = docLinkHtml;\n",
              "          element.appendChild(docLink);\n",
              "        }\n",
              "      </script>\n",
              "    </div>\n",
              "  </div>\n",
              "  "
            ]
          },
          "metadata": {},
          "execution_count": 24
        }
      ]
    },
    {
      "cell_type": "code",
      "source": [
        "KOI['koi_prad'].plot(kind='kde')\n",
        "plt.xlim(-2000, 2000)"
      ],
      "metadata": {
        "colab": {
          "base_uri": "https://localhost:8080/",
          "height": 283
        },
        "id": "_cY5VBiqg42T",
        "outputId": "11d18141-93cb-4187-fe8a-d8dde9c4bd32"
      },
      "execution_count": 25,
      "outputs": [
        {
          "output_type": "execute_result",
          "data": {
            "text/plain": [
              "(-2000.0, 2000.0)"
            ]
          },
          "metadata": {},
          "execution_count": 25
        },
        {
          "output_type": "display_data",
          "data": {
            "text/plain": [
              "<Figure size 432x288 with 1 Axes>"
            ],
            "image/png": "[encoded data removed]"
          },
          "metadata": {
            "needs_background": "light"
          }
        }
      ]
    },
    {
      "cell_type": "code",
      "source": [
        "KOI[KOI['koi_disposition'] == 'CONFIRMED']['koi_prad'].plot(kind='kde')"
      ],
      "metadata": {
        "colab": {
          "base_uri": "https://localhost:8080/",
          "height": 283
        },
        "id": "RaJ5qd2xZId_",
        "outputId": "c737be3a-b389-4d09-8997-cb7905e69521"
      },
      "execution_count": 26,
      "outputs": [
        {
          "output_type": "execute_result",
          "data": {
            "text/plain": [
              "<matplotlib.axes._subplots.AxesSubplot at 0x7f477481e650>"
            ]
          },
          "metadata": {},
          "execution_count": 26
        },
        {
          "output_type": "display_data",
          "data": {
            "text/plain": [
              "<Figure size 432x288 with 1 Axes>"
            ],
            "image/png": "[encoded data removed]"
          },
          "metadata": {
            "needs_background": "light"
          }
        }
      ]
    },
    {
      "cell_type": "code",
      "source": [
        "KOI[KOI['koi_disposition'] == 'CANDIDATE']['koi_prad'].plot(kind='kde')"
      ],
      "metadata": {
        "colab": {
          "base_uri": "https://localhost:8080/",
          "height": 283
        },
        "id": "tY_iewkzaUKa",
        "outputId": "7e6fcac2-7600-4144-dc38-b62a54a6535a"
      },
      "execution_count": 27,
      "outputs": [
        {
          "output_type": "execute_result",
          "data": {
            "text/plain": [
              "<matplotlib.axes._subplots.AxesSubplot at 0x7f47667aaf90>"
            ]
          },
          "metadata": {},
          "execution_count": 27
        },
        {
          "output_type": "display_data",
          "data": {
            "text/plain": [
              "<Figure size 432x288 with 1 Axes>"
            ],
            "image/png": "[encoded data removed]"
          },
          "metadata": {
            "needs_background": "light"
          }
        }
      ]
    },
    {
      "cell_type": "code",
      "source": [
        "KOI['koi_impact'].plot(kind='kde')\n",
        "plt.xlim(-1, 2)\n",
        "plt.xlabel(\"Impact Parameter (b)\")"
      ],
      "metadata": {
        "colab": {
          "base_uri": "https://localhost:8080/",
          "height": 298
        },
        "id": "rUyJDKuSiNsP",
        "outputId": "ac991c44-289d-4ae6-a216-81e96cb0f1d4"
      },
      "execution_count": 28,
      "outputs": [
        {
          "output_type": "execute_result",
          "data": {
            "text/plain": [
              "Text(0.5, 0, 'Impact Parameter (b)')"
            ]
          },
          "metadata": {},
          "execution_count": 28
        },
        {
          "output_type": "display_data",
          "data": {
            "text/plain": [
              "<Figure size 432x288 with 1 Axes>"
            ],
            "image/png": "[encoded data removed]"
          },
          "metadata": {
            "needs_background": "light"
          }
        }
      ]
    },
    {
      "cell_type": "code",
      "source": [
        "import math\n",
        "import numpy as np\n",
        "sigma = 5.67 * 10 ** (-8)\n",
        "solar_radius = 6.95 * 10 ** 8\n",
        "solar_lum = 3.828 * 10 ** 26\n",
        "koi_slum = 4 * math.pi * (np.power((KOI['koi_srad'] * solar_radius),2)) * sigma * np.power((KOI['koi_steff']),4)\n",
        "koi_slum = koi_slum / solar_lum\n",
        "plt.scatter(KOI['koi_steff'], koi_slum)\n",
        "plt.xlabel(\"Effective Temperature\")\n",
        "plt.ylabel(\"Luminosity (Solar Luminosity)\")"
      ],
      "metadata": {
        "colab": {
          "base_uri": "https://localhost:8080/",
          "height": 297
        },
        "id": "88WwS7zui0n_",
        "outputId": "1381312b-0308-46ab-8bfc-f0a2aedfee9c"
      },
      "execution_count": 29,
      "outputs": [
        {
          "output_type": "execute_result",
          "data": {
            "text/plain": [
              "Text(0, 0.5, 'Luminosity (Solar Luminosity)')"
            ]
          },
          "metadata": {},
          "execution_count": 29
        },
        {
          "output_type": "display_data",
          "data": {
            "text/plain": [
              "<Figure size 432x288 with 1 Axes>"
            ],
            "image/png": "[encoded data removed]"
          },
          "metadata": {
            "needs_background": "light"
          }
        }
      ]
    },
    {
      "cell_type": "code",
      "source": [
        "import statistics\n",
        "min_lum = min(pdcsap_fluxes)\n",
        "avg_lum = np.sum(pdcsap_fluxes[:100]) / 100\n",
        "print(min_lum)\n",
        "print(avg_lum)"
      ],
      "metadata": {
        "colab": {
          "base_uri": "https://localhost:8080/"
        },
        "id": "VxpC688aNIkd",
        "outputId": "030a3fbd-7aa0-4e53-9615-b04b4b74e6f3"
      },
      "execution_count": 30,
      "outputs": [
        {
          "output_type": "stream",
          "name": "stdout",
          "text": [
            "400072.06\n",
            "406148.68\n"
          ]
        }
      ]
    },
    {
      "cell_type": "code",
      "source": [
        "!pip install kepler"
      ],
      "metadata": {
        "colab": {
          "base_uri": "https://localhost:8080/"
        },
        "id": "ubkN3LsvPwm3",
        "outputId": "bf4f8f25-b88a-4706-9d9d-3fb83fde6e26"
      },
      "execution_count": 1,
      "outputs": [
        {
          "output_type": "stream",
          "name": "stdout",
          "text": [
            "Looking in indexes: https://pypi.org/simple, https://us-python.pkg.dev/colab-wheels/public/simple/\n",
            "Collecting kepler\n",
            "  Downloading kepler-0.0.1-py3-none-any.whl (2.1 kB)\n",
            "Installing collected packages: kepler\n",
            "Successfully installed kepler-0.0.1\n"
          ]
        }
      ]
    },
    {
      "cell_type": "code",
      "source": [
        "import kepler\n",
        "client = kepler.API()\n",
        "\n"
      ],
      "metadata": {
        "id": "-r7K9xP8RXtm"
      },
      "execution_count": null,
      "outputs": []
    }
  ],
  "metadata": {
    "colab": {
      "provenance": [],
      "include_colab_link": true
    },
    "kernelspec": {
      "display_name": "Python 3",
      "name": "python3"
    },
    "language_info": {
      "name": "python"
    }
  },
  "nbformat": 4,
  "nbformat_minor": 0
}