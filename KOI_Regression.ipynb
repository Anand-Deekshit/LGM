{
  "cells": [
    {
      "cell_type": "markdown",
      "metadata": {
        "id": "view-in-github",
        "colab_type": "text"
      },
      "source": [
        "<a href=\"https://colab.research.google.com/github/nicholasproietti/LGM/blob/main/KOI_Regression.ipynb\" target=\"_parent\"><img src=\"https://colab.research.google.com/assets/colab-badge.svg\" alt=\"Open In Colab\"/></a>"
      ]
    },
    {
      "cell_type": "markdown",
      "source": [
        "# KOI Regression\n",
        "\n",
        "One of the objectives of the project is to link properties of a confirmed exoplanet and its host star to the radius of the exoplanet.\n",
        "\n",
        "To this end, we will take advantage of the **Kepler Object of Interest Table (KOI)**, which provides the most accurate dispositions (false positive, confirmed, candidate) and stellar and planetary information for all KOIs in one place. We will load it, filter the table to only consider confirmed KOIs, retrieve the desired parameters, use a Multi-layer Perceptron (MLP) regressor to predict radii, and plot the results.\n",
        "\n",
        " We will only be looking at several parameters, but the table is rich and can be explored in many more ways."
      ],
      "metadata": {
        "id": "PAnZefEUjIaz"
      }
    },
    {
      "cell_type": "markdown",
      "source": [
        "## Acquiring and splitting the data\n",
        "\n",
        "Notes:\n",
        "\n",
        "*   **X**: The input data\n",
        "  *   `koi_period` = orbital period (days)\n",
        "  *   `koi_time0bk` = transit epoch, or the time corresponding to the center of the first detected transit in Barycentric Julian Day (BJD) minus a constant offset of 2,454,833.0 days\n",
        "  *   `koi_impact` = impact parameter\n",
        "  *   `koi_duration` = duration (hours)\n",
        "  *   `koi_depth` = depth (parts per million)\n",
        "  *   planet mass\n",
        "*   **Y**: The target values (radii)\n",
        "\n",
        "[link to KOI data columns dictionary](https://exoplanetarchive.ipac.caltech.edu/docs/API_kepcandidate_columns.html)"
      ],
      "metadata": {
        "id": "O7PAkjQKG4Dt"
      }
    },
    {
      "cell_type": "code",
      "source": [
        "import numpy as np\n",
        "import matplotlib\n",
        "import matplotlib.pyplot as plt\n",
        "import pandas as pd\n",
        "from sklearn import neural_network\n",
        "from sklearn.model_selection import train_test_split"
      ],
      "metadata": {
        "id": "uJLb1gGJSsf7"
      },
      "execution_count": 1,
      "outputs": []
    },
    {
      "cell_type": "markdown",
      "source": [
        "From the KOI table, we filter out all non-`CONFIRMED` rows to extract input parameters and known exoplanet radii.\n",
        "<br/>\n",
        "\n",
        "\n",
        "The stellar mass is calculated by,\n",
        "<br/>\n",
        "$M_{*}$ $=$ $\\frac{g_{*}R_{*}^2}{G}$\n",
        "<br/>\n",
        "where $g_{*}$ is the stellar surface gravity, $R_{*}$ is the stellar radius, and $G$ is the gravitational constant.\n",
        "<br/>\n",
        "\n",
        "\n",
        "We split the data 50% **training**, 25% **testing**, and 25% **validation**.\n",
        "\n",
        "[link to sklearn regression documentation](https://scikit-learn.org/stable/modules/generated/sklearn.neural_network.MLPRegressor.html#sklearn.neural_network.MLPRegressor)\n"
      ],
      "metadata": {
        "id": "r6P8GUWzTVPT"
      }
    },
    {
      "cell_type": "code",
      "source": [
        "# KOI filtering \n",
        "url = \"https://raw.githubusercontent.com/nicholasproietti/LGM/main/data/KOI.csv\"\n",
        "\n",
        "KOI = pd.read_csv(url)\n",
        "KOI_confirmed = KOI.drop(KOI[KOI['koi_disposition']!='CONFIRMED'].index)\n",
        "\n",
        "# planet mass calculation\n",
        "G = 6.673*pow(10, -8) # gravitational constant in base cgs units\n",
        "mass = ((10**KOI_confirmed['koi_slogg'])*pow(KOI_confirmed['koi_srad'], 2))/G # stellar mass\n",
        "\n",
        "# extract input parameters and known radii \n",
        "x = KOI_confirmed[['koi_period','koi_time0bk','koi_impact','koi_duration','koi_depth']]\n",
        "x.loc[:,'mass'] = pd.Series(np.random.randn(len(x)), index=x.index)\n",
        "x.loc[:, 'mass'] = mass\n",
        "y = KOI_confirmed[['koi_prad']]\n",
        "x = x.fillna(0)\n",
        "y = y.fillna(0)\n",
        "\n",
        "# split the data\n",
        "from sklearn import preprocessing\n",
        "x_scaled = preprocessing.scale(x)\n",
        "x_train, x_test, y_train, y_test = train_test_split(x_scaled[1:6000], y[1:6000], train_size=0.5, test_size=0.25)\n"
      ],
      "metadata": {
        "id": "2Q-50FaBmube"
      },
      "execution_count": null,
      "outputs": []
    },
    {
      "cell_type": "markdown",
      "source": [
        "## Viewing the inputs and outputs for the MLP regressor"
      ],
      "metadata": {
        "id": "eeEKxfL6Pkcr"
      }
    },
    {
      "cell_type": "markdown",
      "source": [
        "View the inputs"
      ],
      "metadata": {
        "id": "M-wWGXCmYBxs"
      }
    },
    {
      "cell_type": "code",
      "source": [
        "x"
      ],
      "metadata": {
        "colab": {
          "base_uri": "https://localhost:8080/",
          "height": 423
        },
        "id": "6ySKq7K9R_Mx",
        "outputId": "bfdf3f8b-9650-4a3f-c444-e8a5f23e922c"
      },
      "execution_count": 3,
      "outputs": [
        {
          "output_type": "execute_result",
          "data": {
            "text/plain": [
              "      koi_period  koi_time0bk  koi_impact  koi_duration  koi_depth  \\\n",
              "0       9.488036    170.53875       0.146        2.9575      615.8   \n",
              "1      54.418383    162.51384       0.586        4.5070      874.8   \n",
              "4       2.525592    171.59555       0.701        1.6545      603.3   \n",
              "5      11.094321    171.20116       0.538        4.5945     1517.5   \n",
              "6       4.134435    172.97937       0.762        3.1402      686.0   \n",
              "...          ...          ...         ...           ...        ...   \n",
              "8057   10.692115    141.11600       0.734        4.6570      408.4   \n",
              "8817    4.485592    135.43172       0.442        0.8161     2265.0   \n",
              "8956    8.152759    134.19046       0.461        1.7460    16536.0   \n",
              "9014  384.847556    314.97000       0.059        9.9690      189.9   \n",
              "9083    3.875943    134.84758       0.025        2.3140       58.6   \n",
              "\n",
              "              mass  \n",
              "0     3.774317e+11  \n",
              "1     3.774317e+11  \n",
              "4     4.495130e+11  \n",
              "5     4.335223e+11  \n",
              "6     4.335223e+11  \n",
              "...            ...  \n",
              "8057  4.730664e+11  \n",
              "8817  6.979005e+10  \n",
              "8956  6.943884e+10  \n",
              "9014  3.628145e+11  \n",
              "9083  4.153190e+11  \n",
              "\n",
              "[2669 rows x 6 columns]"
            ],
            "text/html": [
              "\n",
              "  <div id=\"df-c2a4d837-2603-498d-a791-1f67fb6d92e4\">\n",
              "    <div class=\"colab-df-container\">\n",
              "      <div>\n",
              "<style scoped>\n",
              "    .dataframe tbody tr th:only-of-type {\n",
              "        vertical-align: middle;\n",
              "    }\n",
              "\n",
              "    .dataframe tbody tr th {\n",
              "        vertical-align: top;\n",
              "    }\n",
              "\n",
              "    .dataframe thead th {\n",
              "        text-align: right;\n",
              "    }\n",
              "</style>\n",
              "<table border=\"1\" class=\"dataframe\">\n",
              "  <thead>\n",
              "    <tr style=\"text-align: right;\">\n",
              "      <th></th>\n",
              "      <th>koi_period</th>\n",
              "      <th>koi_time0bk</th>\n",
              "      <th>koi_impact</th>\n",
              "      <th>koi_duration</th>\n",
              "      <th>koi_depth</th>\n",
              "      <th>mass</th>\n",
              "    </tr>\n",
              "  </thead>\n",
              "  <tbody>\n",
              "    <tr>\n",
              "      <th>0</th>\n",
              "      <td>9.488036</td>\n",
              "      <td>170.53875</td>\n",
              "      <td>0.146</td>\n",
              "      <td>2.9575</td>\n",
              "      <td>615.8</td>\n",
              "      <td>3.774317e+11</td>\n",
              "    </tr>\n",
              "    <tr>\n",
              "      <th>1</th>\n",
              "      <td>54.418383</td>\n",
              "      <td>162.51384</td>\n",
              "      <td>0.586</td>\n",
              "      <td>4.5070</td>\n",
              "      <td>874.8</td>\n",
              "      <td>3.774317e+11</td>\n",
              "    </tr>\n",
              "    <tr>\n",
              "      <th>4</th>\n",
              "      <td>2.525592</td>\n",
              "      <td>171.59555</td>\n",
              "      <td>0.701</td>\n",
              "      <td>1.6545</td>\n",
              "      <td>603.3</td>\n",
              "      <td>4.495130e+11</td>\n",
              "    </tr>\n",
              "    <tr>\n",
              "      <th>5</th>\n",
              "      <td>11.094321</td>\n",
              "      <td>171.20116</td>\n",
              "      <td>0.538</td>\n",
              "      <td>4.5945</td>\n",
              "      <td>1517.5</td>\n",
              "      <td>4.335223e+11</td>\n",
              "    </tr>\n",
              "    <tr>\n",
              "      <th>6</th>\n",
              "      <td>4.134435</td>\n",
              "      <td>172.97937</td>\n",
              "      <td>0.762</td>\n",
              "      <td>3.1402</td>\n",
              "      <td>686.0</td>\n",
              "      <td>4.335223e+11</td>\n",
              "    </tr>\n",
              "    <tr>\n",
              "      <th>...</th>\n",
              "      <td>...</td>\n",
              "      <td>...</td>\n",
              "      <td>...</td>\n",
              "      <td>...</td>\n",
              "      <td>...</td>\n",
              "      <td>...</td>\n",
              "    </tr>\n",
              "    <tr>\n",
              "      <th>8057</th>\n",
              "      <td>10.692115</td>\n",
              "      <td>141.11600</td>\n",
              "      <td>0.734</td>\n",
              "      <td>4.6570</td>\n",
              "      <td>408.4</td>\n",
              "      <td>4.730664e+11</td>\n",
              "    </tr>\n",
              "    <tr>\n",
              "      <th>8817</th>\n",
              "      <td>4.485592</td>\n",
              "      <td>135.43172</td>\n",
              "      <td>0.442</td>\n",
              "      <td>0.8161</td>\n",
              "      <td>2265.0</td>\n",
              "      <td>6.979005e+10</td>\n",
              "    </tr>\n",
              "    <tr>\n",
              "      <th>8956</th>\n",
              "      <td>8.152759</td>\n",
              "      <td>134.19046</td>\n",
              "      <td>0.461</td>\n",
              "      <td>1.7460</td>\n",
              "      <td>16536.0</td>\n",
              "      <td>6.943884e+10</td>\n",
              "    </tr>\n",
              "    <tr>\n",
              "      <th>9014</th>\n",
              "      <td>384.847556</td>\n",
              "      <td>314.97000</td>\n",
              "      <td>0.059</td>\n",
              "      <td>9.9690</td>\n",
              "      <td>189.9</td>\n",
              "      <td>3.628145e+11</td>\n",
              "    </tr>\n",
              "    <tr>\n",
              "      <th>9083</th>\n",
              "      <td>3.875943</td>\n",
              "      <td>134.84758</td>\n",
              "      <td>0.025</td>\n",
              "      <td>2.3140</td>\n",
              "      <td>58.6</td>\n",
              "      <td>4.153190e+11</td>\n",
              "    </tr>\n",
              "  </tbody>\n",
              "</table>\n",
              "<p>2669 rows × 6 columns</p>\n",
              "</div>\n",
              "      <button class=\"colab-df-convert\" onclick=\"convertToInteractive('df-c2a4d837-2603-498d-a791-1f67fb6d92e4')\"\n",
              "              title=\"Convert this dataframe to an interactive table.\"\n",
              "              style=\"display:none;\">\n",
              "        \n",
              "  <svg xmlns=\"http://www.w3.org/2000/svg\" height=\"24px\"viewBox=\"0 0 24 24\"\n",
              "       width=\"24px\">\n",
              "    <path d=\"M0 0h24v24H0V0z\" fill=\"none\"/>\n",
              "    <path d=\"M18.56 5.44l.94 2.06.94-2.06 2.06-.94-2.06-.94-.94-2.06-.94 2.06-2.06.94zm-11 1L8.5 8.5l.94-2.06 2.06-.94-2.06-.94L8.5 2.5l-.94 2.06-2.06.94zm10 10l.94 2.06.94-2.06 2.06-.94-2.06-.94-.94-2.06-.94 2.06-2.06.94z\"/><path d=\"M17.41 7.96l-1.37-1.37c-.4-.4-.92-.59-1.43-.59-.52 0-1.04.2-1.43.59L10.3 9.45l-7.72 7.72c-.78.78-.78 2.05 0 2.83L4 21.41c.39.39.9.59 1.41.59.51 0 1.02-.2 1.41-.59l7.78-7.78 2.81-2.81c.8-.78.8-2.07 0-2.86zM5.41 20L4 18.59l7.72-7.72 1.47 1.35L5.41 20z\"/>\n",
              "  </svg>\n",
              "      </button>\n",
              "      \n",
              "  <style>\n",
              "    .colab-df-container {\n",
              "      display:flex;\n",
              "      flex-wrap:wrap;\n",
              "      gap: 12px;\n",
              "    }\n",
              "\n",
              "    .colab-df-convert {\n",
              "      background-color: #E8F0FE;\n",
              "      border: none;\n",
              "      border-radius: 50%;\n",
              "      cursor: pointer;\n",
              "      display: none;\n",
              "      fill: #1967D2;\n",
              "      height: 32px;\n",
              "      padding: 0 0 0 0;\n",
              "      width: 32px;\n",
              "    }\n",
              "\n",
              "    .colab-df-convert:hover {\n",
              "      background-color: #E2EBFA;\n",
              "      box-shadow: 0px 1px 2px rgba(60, 64, 67, 0.3), 0px 1px 3px 1px rgba(60, 64, 67, 0.15);\n",
              "      fill: #174EA6;\n",
              "    }\n",
              "\n",
              "    [theme=dark] .colab-df-convert {\n",
              "      background-color: #3B4455;\n",
              "      fill: #D2E3FC;\n",
              "    }\n",
              "\n",
              "    [theme=dark] .colab-df-convert:hover {\n",
              "      background-color: #434B5C;\n",
              "      box-shadow: 0px 1px 3px 1px rgba(0, 0, 0, 0.15);\n",
              "      filter: drop-shadow(0px 1px 2px rgba(0, 0, 0, 0.3));\n",
              "      fill: #FFFFFF;\n",
              "    }\n",
              "  </style>\n",
              "\n",
              "      <script>\n",
              "        const buttonEl =\n",
              "          document.querySelector('#df-c2a4d837-2603-498d-a791-1f67fb6d92e4 button.colab-df-convert');\n",
              "        buttonEl.style.display =\n",
              "          google.colab.kernel.accessAllowed ? 'block' : 'none';\n",
              "\n",
              "        async function convertToInteractive(key) {\n",
              "          const element = document.querySelector('#df-c2a4d837-2603-498d-a791-1f67fb6d92e4');\n",
              "          const dataTable =\n",
              "            await google.colab.kernel.invokeFunction('convertToInteractive',\n",
              "                                                     [key], {});\n",
              "          if (!dataTable) return;\n",
              "\n",
              "          const docLinkHtml = 'Like what you see? Visit the ' +\n",
              "            '<a target=\"_blank\" href=https://colab.research.google.com/notebooks/data_table.ipynb>data table notebook</a>'\n",
              "            + ' to learn more about interactive tables.';\n",
              "          element.innerHTML = '';\n",
              "          dataTable['output_type'] = 'display_data';\n",
              "          await google.colab.output.renderOutput(dataTable, element);\n",
              "          const docLink = document.createElement('div');\n",
              "          docLink.innerHTML = docLinkHtml;\n",
              "          element.appendChild(docLink);\n",
              "        }\n",
              "      </script>\n",
              "    </div>\n",
              "  </div>\n",
              "  "
            ]
          },
          "metadata": {},
          "execution_count": 3
        }
      ]
    },
    {
      "cell_type": "markdown",
      "source": [
        "View the outputs"
      ],
      "metadata": {
        "id": "lMvCyQeNYP1s"
      }
    },
    {
      "cell_type": "code",
      "source": [
        "y\n"
      ],
      "metadata": {
        "colab": {
          "base_uri": "https://localhost:8080/",
          "height": 423
        },
        "id": "5Pn5R4u5SC3x",
        "outputId": "ede0a39c-ddc7-42ea-b991-f5c52d16b479"
      },
      "execution_count": 4,
      "outputs": [
        {
          "output_type": "execute_result",
          "data": {
            "text/plain": [
              "      koi_prad\n",
              "0         2.26\n",
              "1         2.83\n",
              "4         2.75\n",
              "5         3.90\n",
              "6         2.77\n",
              "...        ...\n",
              "8057      2.71\n",
              "8817      0.95\n",
              "8956      2.44\n",
              "9014      1.09\n",
              "9083      0.68\n",
              "\n",
              "[2669 rows x 1 columns]"
            ],
            "text/html": [
              "\n",
              "  <div id=\"df-e3e34e42-e034-4430-8a88-73a6cbc55b65\">\n",
              "    <div class=\"colab-df-container\">\n",
              "      <div>\n",
              "<style scoped>\n",
              "    .dataframe tbody tr th:only-of-type {\n",
              "        vertical-align: middle;\n",
              "    }\n",
              "\n",
              "    .dataframe tbody tr th {\n",
              "        vertical-align: top;\n",
              "    }\n",
              "\n",
              "    .dataframe thead th {\n",
              "        text-align: right;\n",
              "    }\n",
              "</style>\n",
              "<table border=\"1\" class=\"dataframe\">\n",
              "  <thead>\n",
              "    <tr style=\"text-align: right;\">\n",
              "      <th></th>\n",
              "      <th>koi_prad</th>\n",
              "    </tr>\n",
              "  </thead>\n",
              "  <tbody>\n",
              "    <tr>\n",
              "      <th>0</th>\n",
              "      <td>2.26</td>\n",
              "    </tr>\n",
              "    <tr>\n",
              "      <th>1</th>\n",
              "      <td>2.83</td>\n",
              "    </tr>\n",
              "    <tr>\n",
              "      <th>4</th>\n",
              "      <td>2.75</td>\n",
              "    </tr>\n",
              "    <tr>\n",
              "      <th>5</th>\n",
              "      <td>3.90</td>\n",
              "    </tr>\n",
              "    <tr>\n",
              "      <th>6</th>\n",
              "      <td>2.77</td>\n",
              "    </tr>\n",
              "    <tr>\n",
              "      <th>...</th>\n",
              "      <td>...</td>\n",
              "    </tr>\n",
              "    <tr>\n",
              "      <th>8057</th>\n",
              "      <td>2.71</td>\n",
              "    </tr>\n",
              "    <tr>\n",
              "      <th>8817</th>\n",
              "      <td>0.95</td>\n",
              "    </tr>\n",
              "    <tr>\n",
              "      <th>8956</th>\n",
              "      <td>2.44</td>\n",
              "    </tr>\n",
              "    <tr>\n",
              "      <th>9014</th>\n",
              "      <td>1.09</td>\n",
              "    </tr>\n",
              "    <tr>\n",
              "      <th>9083</th>\n",
              "      <td>0.68</td>\n",
              "    </tr>\n",
              "  </tbody>\n",
              "</table>\n",
              "<p>2669 rows × 1 columns</p>\n",
              "</div>\n",
              "      <button class=\"colab-df-convert\" onclick=\"convertToInteractive('df-e3e34e42-e034-4430-8a88-73a6cbc55b65')\"\n",
              "              title=\"Convert this dataframe to an interactive table.\"\n",
              "              style=\"display:none;\">\n",
              "        \n",
              "  <svg xmlns=\"http://www.w3.org/2000/svg\" height=\"24px\"viewBox=\"0 0 24 24\"\n",
              "       width=\"24px\">\n",
              "    <path d=\"M0 0h24v24H0V0z\" fill=\"none\"/>\n",
              "    <path d=\"M18.56 5.44l.94 2.06.94-2.06 2.06-.94-2.06-.94-.94-2.06-.94 2.06-2.06.94zm-11 1L8.5 8.5l.94-2.06 2.06-.94-2.06-.94L8.5 2.5l-.94 2.06-2.06.94zm10 10l.94 2.06.94-2.06 2.06-.94-2.06-.94-.94-2.06-.94 2.06-2.06.94z\"/><path d=\"M17.41 7.96l-1.37-1.37c-.4-.4-.92-.59-1.43-.59-.52 0-1.04.2-1.43.59L10.3 9.45l-7.72 7.72c-.78.78-.78 2.05 0 2.83L4 21.41c.39.39.9.59 1.41.59.51 0 1.02-.2 1.41-.59l7.78-7.78 2.81-2.81c.8-.78.8-2.07 0-2.86zM5.41 20L4 18.59l7.72-7.72 1.47 1.35L5.41 20z\"/>\n",
              "  </svg>\n",
              "      </button>\n",
              "      \n",
              "  <style>\n",
              "    .colab-df-container {\n",
              "      display:flex;\n",
              "      flex-wrap:wrap;\n",
              "      gap: 12px;\n",
              "    }\n",
              "\n",
              "    .colab-df-convert {\n",
              "      background-color: #E8F0FE;\n",
              "      border: none;\n",
              "      border-radius: 50%;\n",
              "      cursor: pointer;\n",
              "      display: none;\n",
              "      fill: #1967D2;\n",
              "      height: 32px;\n",
              "      padding: 0 0 0 0;\n",
              "      width: 32px;\n",
              "    }\n",
              "\n",
              "    .colab-df-convert:hover {\n",
              "      background-color: #E2EBFA;\n",
              "      box-shadow: 0px 1px 2px rgba(60, 64, 67, 0.3), 0px 1px 3px 1px rgba(60, 64, 67, 0.15);\n",
              "      fill: #174EA6;\n",
              "    }\n",
              "\n",
              "    [theme=dark] .colab-df-convert {\n",
              "      background-color: #3B4455;\n",
              "      fill: #D2E3FC;\n",
              "    }\n",
              "\n",
              "    [theme=dark] .colab-df-convert:hover {\n",
              "      background-color: #434B5C;\n",
              "      box-shadow: 0px 1px 3px 1px rgba(0, 0, 0, 0.15);\n",
              "      filter: drop-shadow(0px 1px 2px rgba(0, 0, 0, 0.3));\n",
              "      fill: #FFFFFF;\n",
              "    }\n",
              "  </style>\n",
              "\n",
              "      <script>\n",
              "        const buttonEl =\n",
              "          document.querySelector('#df-e3e34e42-e034-4430-8a88-73a6cbc55b65 button.colab-df-convert');\n",
              "        buttonEl.style.display =\n",
              "          google.colab.kernel.accessAllowed ? 'block' : 'none';\n",
              "\n",
              "        async function convertToInteractive(key) {\n",
              "          const element = document.querySelector('#df-e3e34e42-e034-4430-8a88-73a6cbc55b65');\n",
              "          const dataTable =\n",
              "            await google.colab.kernel.invokeFunction('convertToInteractive',\n",
              "                                                     [key], {});\n",
              "          if (!dataTable) return;\n",
              "\n",
              "          const docLinkHtml = 'Like what you see? Visit the ' +\n",
              "            '<a target=\"_blank\" href=https://colab.research.google.com/notebooks/data_table.ipynb>data table notebook</a>'\n",
              "            + ' to learn more about interactive tables.';\n",
              "          element.innerHTML = '';\n",
              "          dataTable['output_type'] = 'display_data';\n",
              "          await google.colab.output.renderOutput(dataTable, element);\n",
              "          const docLink = document.createElement('div');\n",
              "          docLink.innerHTML = docLinkHtml;\n",
              "          element.appendChild(docLink);\n",
              "        }\n",
              "      </script>\n",
              "    </div>\n",
              "  </div>\n",
              "  "
            ]
          },
          "metadata": {},
          "execution_count": 4
        }
      ]
    },
    {
      "cell_type": "markdown",
      "source": [
        "## Using the MLP regressor"
      ],
      "metadata": {
        "id": "qrYvHQD2Qbhy"
      }
    },
    {
      "cell_type": "markdown",
      "source": [
        "Let's define two functions:\n",
        "\n",
        "`test_validate1()` will plot the percent error between the predicted exoplanet radius from the MLP regressor and the known radius from the KOI table for every exoplanet in the validation set.\n",
        "\n",
        "`test_validate2()` will plot the same set as `test_validate1()` with a different representation. The predicted **and** known exoplanet radius values will be plotted."
      ],
      "metadata": {
        "id": "ZofTfpf1YTdi"
      }
    },
    {
      "cell_type": "code",
      "source": [
        "def test_validate1(x_test, y_test, y_predict, classifier):\n",
        "    x = range(len(y_test))\n",
        "    y_test = y_test.to_numpy()\n",
        "    per_error = [abs(i-j)/i*100 if i != 0 else None for i,j in zip(y_test,y_predict)]\n",
        "    #plt.plot(x, y_test, \"ro\", markersize=5, zorder=3, label=u\"known\")\n",
        "    plt.plot(x, per_error, \"bo\", markersize=6, zorder=2, label=u\"$R$=%.3f\" % classifier.score(x_test, y_test))\n",
        "    plt.axhline(y=0, color='red', linestyle='--', linewidth=3, label=\"0% error\")\n",
        "    plt.legend(loc=\"upper left\", prop={'size': 14})\n",
        "    plt.xlabel(\"Exoplanet Sample Index\", fontsize = 14)\n",
        "    plt.ylabel(\"Exoplanet Radius Percent Error (%)\", fontsize = 14)\n",
        "    plt.tick_params(axis='both', which='major', labelsize=14)\n",
        "    plt.tick_params(axis='both', which='minor', labelsize=14)\n",
        "    plt.axis([0, len(per_error), -10, 100])\n",
        "    plt.title(\"Accuracy of MLPRegressor Exoplanet Radii Predictions (Validation Set)\", fontsize = 14)\n",
        "    print(\"Mean percent error: \" + str(round(np.mean(per_error), 3)))\n",
        "    plt.show()\n",
        "\n",
        "def test_validate2(x_test, y_test, y_predict, classifier):\n",
        "    x = range(len(y_test))\n",
        "    plt.plot(x, y_test, \"ro\", markersize=5, zorder=3, label=u\"known\")\n",
        "    plt.plot(x, y_predict, \"bo\", markersize=8, zorder=2, label=u\"predicted, $R$=%.3f\" % classifier.score(x_test, y_test))\n",
        "    plt.legend(loc=\"lower left\", prop={'size': 14})\n",
        "    plt.xlabel(\"Exoplanet Sample Index\", fontsize = 14)\n",
        "    plt.ylabel(\"Exoplanet Radius \" + r\"$(R_{earth})$\", fontsize = 14)\n",
        "    plt.tick_params(axis='both', which='major', labelsize=14)\n",
        "    plt.tick_params(axis='both', which='minor', labelsize=14)\n",
        "    plt.axis([0, len(y_test), -3,20])\n",
        "    plt.title(\"Accuracy of MLPRegressor Exoplanet Radii Predictions (Validation Set)\", fontsize = 14)\n",
        "    plt.show()\n",
        "\n",
        "plt.rcParams[\"figure.figsize\"] = (10,7)"
      ],
      "metadata": {
        "id": "uYVjQTIQSMyX"
      },
      "execution_count": 5,
      "outputs": []
    },
    {
      "cell_type": "markdown",
      "source": [
        "Now let's use the MLP regressor with default settings (`relu` activation function, `adam` solver, 2 hidden layers of 100 and 20 units respectively, etc.).\n",
        "\n",
        "This model optimizes the squared error using LBFGS or stochastic gradient descent."
      ],
      "metadata": {
        "id": "A_73CSYjfFh1"
      }
    },
    {
      "cell_type": "code",
      "source": [
        "mlp = neural_network.MLPRegressor(hidden_layer_sizes=(100, 20), activation=\"relu\",\n",
        "                 solver='adam', alpha=0.0001,\n",
        "                 batch_size='auto', learning_rate=\"constant\",\n",
        "                 learning_rate_init=0.001,\n",
        "                 max_iter=2000,tol=1e-4)\n",
        "\n",
        "mlp.fit(x_train, y_train)\n",
        "r = mlp.score(x_train, y_train)\n",
        "y_predict = mlp.predict(x_test)  "
      ],
      "metadata": {
        "id": "af5gZ7WrSWne"
      },
      "execution_count": null,
      "outputs": []
    },
    {
      "cell_type": "markdown",
      "source": [
        "## Visualize the final results (validation set) of the KOI regression"
      ],
      "metadata": {
        "id": "y1y2W6N7P9QH"
      }
    },
    {
      "cell_type": "markdown",
      "source": [
        "### Accuracy of MLPRegressor Exoplanet Radii Predictions"
      ],
      "metadata": {
        "id": "uk1LDqJiqR7F"
      }
    },
    {
      "cell_type": "code",
      "source": [
        "test_validate1(x_test=x_test, y_test=y_test, y_predict=y_predict, classifier=mlp)"
      ],
      "metadata": {
        "colab": {
          "base_uri": "https://localhost:8080/",
          "height": 485
        },
        "id": "xPMxzD9cPwiQ",
        "outputId": "4a209f3a-dc26-4783-9ee0-29101b895800"
      },
      "execution_count": 7,
      "outputs": [
        {
          "output_type": "stream",
          "name": "stdout",
          "text": [
            "Mean percent error: 16.538\n"
          ]
        },
        {
          "output_type": "display_data",
          "data": {
            "text/plain": [
              "<Figure size 720x504 with 1 Axes>"
            ],
            "image/png": "[encoded data removed]"
          },
          "metadata": {
            "needs_background": "light"
          }
        }
      ]
    },
    {
      "cell_type": "markdown",
      "source": [
        "### Loss Curve"
      ],
      "metadata": {
        "id": "Ne9abEj9qchO"
      }
    },
    {
      "cell_type": "code",
      "source": [
        "pd.DataFrame(mlp.loss_curve_).plot(xlabel=\"Epoch\", ylabel=\"Loss\", legend=False)\n"
      ],
      "metadata": {
        "colab": {
          "base_uri": "https://localhost:8080/",
          "height": 460
        },
        "id": "AaISTzq6DIkL",
        "outputId": "2f2c2d0d-d5de-430f-8fbd-aac4b0cd41ed"
      },
      "execution_count": 8,
      "outputs": [
        {
          "output_type": "execute_result",
          "data": {
            "text/plain": [
              "<matplotlib.axes._subplots.AxesSubplot at 0x7f0e69261af0>"
            ]
          },
          "metadata": {},
          "execution_count": 8
        },
        {
          "output_type": "display_data",
          "data": {
            "text/plain": [
              "<Figure size 720x504 with 1 Axes>"
            ],
            "image/png": "[encoded data removed]"
          },
          "metadata": {
            "needs_background": "light"
          }
        }
      ]
    },
    {
      "cell_type": "markdown",
      "source": [
        "### Accuracy of MLPRegressor Exoplanet Radii Predictons"
      ],
      "metadata": {
        "id": "oGhD-EKLqgz-"
      }
    },
    {
      "cell_type": "code",
      "source": [
        "test_validate2(x_test=x_test, y_test=y_test, y_predict=y_predict, classifier=mlp)"
      ],
      "metadata": {
        "colab": {
          "base_uri": "https://localhost:8080/",
          "height": 467
        },
        "id": "emNgEXr1Sijy",
        "outputId": "8796ed79-7537-4f55-d9cf-33b62526c1f5"
      },
      "execution_count": 9,
      "outputs": [
        {
          "output_type": "display_data",
          "data": {
            "text/plain": [
              "<Figure size 720x504 with 1 Axes>"
            ],
            "image/png": "[encoded data removed]"
          },
          "metadata": {
            "needs_background": "light"
          }
        }
      ]
    }
  ],
  "metadata": {
    "colab": {
      "provenance": [],
      "toc_visible": true,
      "authorship_tag": "ABX9TyMhtppSp1AqNKch1DxTsXss",
      "include_colab_link": true
    },
    "kernelspec": {
      "display_name": "Python 3",
      "name": "python3"
    },
    "language_info": {
      "name": "python"
    }
  },
  "nbformat": 4,
  "nbformat_minor": 0
}